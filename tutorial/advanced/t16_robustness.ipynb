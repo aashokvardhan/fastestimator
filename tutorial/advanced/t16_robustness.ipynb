{
 "cells": [
  {
   "cell_type": "markdown",
   "id": "023c3f1c",
   "metadata": {},
   "source": [
    "# Advanced Tutorial 16: Model Robustness\n",
    "\n",
    "## Overview\n",
    "In this tutorial, we will discuss the following topics:\n",
    "* [How robust a model is at testing?](#ta16model_robustness)\n",
    "* [How Data augmentation can help improve rotation robustness?](#ta16how_to_improve)\n",
    "    * [The effect of applying shear augmentation](#ta16shear)\n",
    "    * [The effect of applying rotation augmentation](#ta16rotation)\n",
    "    * [Model Comparison](#ta16comparison)"
   ]
  },
  {
   "cell_type": "markdown",
   "id": "734a419e",
   "metadata": {},
   "source": [
    "<a id='ta16model_robustness'></a>\n",
    "## How robust a model is at testing?\n",
    "\n",
    "Robustness is the ability of a model to estimate reliably when inputs are influenced by different conditions or when model’s assumptions are not fully satisfied.\n",
    "In this tutorial we are going to introduce model robustness and how we can use FastEstimator Search API and Visualization API to check model robustness.\n",
    "\n",
    "In this tutorial, we will test model’s capability at handling rotation varieties. First, let’s design a generic `get_estimator` function to be used in all our experiments in this tutorial and ensure that we use same test and train set for each experiment. "
   ]
  },
  {
   "cell_type": "code",
   "execution_count": 1,
   "id": "39d7ec35",
   "metadata": {},
   "outputs": [],
   "source": [
    "import fastestimator as fe\n",
    "import os\n",
    "import tempfile\n",
    "\n",
    "from fastestimator.dataset.data import cifair10\n",
    "\n",
    "from fastestimator.op.numpyop.univariate import ChannelTranspose, Normalize\n",
    "from fastestimator.op.numpyop.multivariate import Rotate, Affine\n",
    "from fastestimator.architecture.pytorch import LeNet\n",
    "from fastestimator.op.tensorop.loss import CrossEntropy\n",
    "from fastestimator.op.tensorop.model import ModelOp, UpdateOp\n",
    "from fastestimator.trace.io import ModelSaver\n",
    "from fastestimator.trace.metric import Accuracy\n",
    "\n",
    "\n",
    "\n",
    "def get_estimator(\n",
    "    save_dir,\n",
    "    weight_path=None,\n",
    "    model_name='robust',\n",
    "    train_rotate=None,\n",
    "    test_rotate=0,\n",
    "    train_shear=None,\n",
    "    epochs=24,\n",
    "    visualize=False):\n",
    "\n",
    "    train_data, eval_data = cifair10.load_data()\n",
    "    test_data = eval_data.split(0.5, seed = 0)\n",
    "\n",
    "    numpy_op = []\n",
    "\n",
    "    if train_shear is not None:\n",
    "        numpy_op.append(Affine(image_in=\"x\", shear=train_shear, mode=\"train\", border_handling='constant', fill_value=0))\n",
    "    if train_rotate is not None:\n",
    "        numpy_op.append(Affine(image_in=\"x\", rotate=train_rotate, mode=\"train\", border_handling='constant', fill_value=0))\n",
    "\n",
    "    pipeline = fe.Pipeline(train_data=train_data,\n",
    "                           eval_data=eval_data,\n",
    "                           test_data=test_data,\n",
    "                           batch_size=32,\n",
    "                           ops=numpy_op +[Rotate(image_in=\"x\", limit=(test_rotate, test_rotate), mode=\"test\"),\n",
    "                                Normalize(inputs=\"x\", outputs=\"x\", mean=(0.4914, 0.4822, 0.4465), std=(0.2471, 0.2435, 0.2616)),\n",
    "                                ChannelTranspose(inputs=\"x\", outputs=\"x\")\n",
    "                            ])\n",
    "\n",
    "\n",
    "    model = fe.build(model_fn=lambda: LeNet(input_shape=(3, 32, 32)), optimizer_fn=\"adam\", weights_path=weight_path, model_name=model_name)\n",
    "\n",
    "    network = fe.Network(ops=[\n",
    "        ModelOp(model=model, inputs=\"x\", outputs=\"y_pred\"),\n",
    "        CrossEntropy(inputs=(\"y_pred\", \"y\"), outputs=\"ce\"),\n",
    "        UpdateOp(model=model, loss_name=\"ce\", mode=\"train\")\n",
    "    ])\n",
    "\n",
    "    traces = [\n",
    "            Accuracy(true_key=\"y\", pred_key=\"y_pred\"),\n",
    "            ModelSaver(model=model, save_dir=save_dir, frequency=epochs)\n",
    "        ]\n",
    "\n",
    "    estimator = fe.Estimator(pipeline=pipeline, network=network, epochs=epochs, traces=traces)\n",
    "    if visualize:\n",
    "        return estimator, pipeline\n",
    "    else:\n",
    "        return estimator\n"
   ]
  },
  {
   "cell_type": "markdown",
   "id": "9ba37dfc",
   "metadata": {},
   "source": [
    "Let's train a model without any augmentation.\n"
   ]
  },
  {
   "cell_type": "code",
   "execution_count": 2,
   "id": "365cc002",
   "metadata": {
    "scrolled": true
   },
   "outputs": [
    {
     "name": "stdout",
     "output_type": "stream",
     "text": [
      "FastEstimator-Warn: Pipeline multiprocessing is disabled. OS must support the 'fork' start method.\n",
      "    ______           __  ______     __  _                 __            \n",
      "   / ____/___ ______/ /_/ ____/____/ /_(_)___ ___  ____ _/ /_____  _____\n",
      "  / /_  / __ `/ ___/ __/ __/ / ___/ __/ / __ `__ \\/ __ `/ __/ __ \\/ ___/\n",
      " / __/ / /_/ (__  ) /_/ /___(__  ) /_/ / / / / / / /_/ / /_/ /_/ / /    \n",
      "/_/    \\__,_/____/\\__/_____/____/\\__/_/_/ /_/ /_/\\__,_/\\__/\\____/_/     \n",
      "                                                                        \n",
      "\n",
      "FastEstimator-Start: step: 1; logging_interval: 100; num_device: 1;\n",
      "FastEstimator-Train: step: 1; ce: 2.3139648;\n",
      "FastEstimator-Train: step: 100; ce: 1.8486447; steps/sec: 131.89;\n",
      "FastEstimator-Train: step: 200; ce: 1.911953; steps/sec: 165.67;\n",
      "FastEstimator-Train: step: 300; ce: 1.5032201; steps/sec: 158.52;\n",
      "FastEstimator-Train: step: 400; ce: 1.4315889; steps/sec: 170.51;\n",
      "FastEstimator-Train: step: 500; ce: 1.3999066; steps/sec: 173.06;\n",
      "FastEstimator-Train: step: 600; ce: 1.3027489; steps/sec: 195.75;\n",
      "FastEstimator-Train: step: 700; ce: 1.3211659; steps/sec: 175.87;\n",
      "FastEstimator-Train: step: 800; ce: 1.2206987; steps/sec: 172.88;\n",
      "FastEstimator-Train: step: 900; ce: 1.3942759; steps/sec: 150.11;\n",
      "FastEstimator-Train: step: 1000; ce: 1.1600171; steps/sec: 179.07;\n",
      "FastEstimator-Train: step: 1100; ce: 1.3695378; steps/sec: 187.29;\n",
      "FastEstimator-Train: step: 1200; ce: 1.0809877; steps/sec: 196.14;\n",
      "FastEstimator-Train: step: 1300; ce: 1.5805955; steps/sec: 200.58;\n",
      "FastEstimator-Train: step: 1400; ce: 0.8997141; steps/sec: 202.03;\n",
      "FastEstimator-Train: step: 1500; ce: 1.1860707; steps/sec: 202.28;\n",
      "FastEstimator-Train: step: 1563; epoch: 1; epoch_time: 9.22 sec;\n",
      "Eval Progress: 1/156;\n",
      "Eval Progress: 52/156; steps/sec: 331.36;\n",
      "Eval Progress: 104/156; steps/sec: 314.23;\n",
      "Eval Progress: 156/156; steps/sec: 317.79;\n",
      "FastEstimator-Eval: step: 1563; epoch: 1; accuracy: 0.5648; ce: 1.2288778;\n",
      "FastEstimator-Train: step: 1600; ce: 1.349352; steps/sec: 152.99;\n",
      "FastEstimator-Train: step: 1700; ce: 1.2892516; steps/sec: 197.71;\n",
      "FastEstimator-Train: step: 1800; ce: 1.153877; steps/sec: 200.8;\n",
      "FastEstimator-Train: step: 1900; ce: 1.0262158; steps/sec: 201.61;\n",
      "FastEstimator-Train: step: 2000; ce: 0.8214569; steps/sec: 204.71;\n",
      "FastEstimator-Train: step: 2100; ce: 1.1295112; steps/sec: 199.65;\n",
      "FastEstimator-Train: step: 2200; ce: 1.4001703; steps/sec: 203.21;\n",
      "FastEstimator-Train: step: 2300; ce: 0.95558906; steps/sec: 199.9;\n",
      "FastEstimator-Train: step: 2400; ce: 0.9163526; steps/sec: 203.55;\n",
      "FastEstimator-Train: step: 2500; ce: 0.74461097; steps/sec: 201.4;\n",
      "FastEstimator-Train: step: 2600; ce: 1.1719731; steps/sec: 204.25;\n",
      "FastEstimator-Train: step: 2700; ce: 1.19312; steps/sec: 194.64;\n",
      "FastEstimator-Train: step: 2800; ce: 0.6260456; steps/sec: 198.1;\n",
      "FastEstimator-Train: step: 2900; ce: 0.9247707; steps/sec: 200.66;\n",
      "FastEstimator-Train: step: 3000; ce: 1.0732739; steps/sec: 200.56;\n",
      "FastEstimator-Train: step: 3100; ce: 0.84212065; steps/sec: 184.25;\n",
      "FastEstimator-Train: step: 3126; epoch: 2; epoch_time: 8.04 sec;\n",
      "Eval Progress: 1/156;\n",
      "Eval Progress: 52/156; steps/sec: 265.42;\n",
      "Eval Progress: 104/156; steps/sec: 278.52;\n",
      "Eval Progress: 156/156; steps/sec: 274.32;\n",
      "FastEstimator-Eval: step: 3126; epoch: 2; accuracy: 0.6426; ce: 1.0270648;\n",
      "FastEstimator-Train: step: 3200; ce: 1.0082581; steps/sec: 133.98;\n",
      "FastEstimator-Train: step: 3300; ce: 0.9704256; steps/sec: 169.71;\n",
      "FastEstimator-Train: step: 3400; ce: 1.0448277; steps/sec: 162.88;\n",
      "FastEstimator-Train: step: 3500; ce: 1.1088343; steps/sec: 154.83;\n",
      "FastEstimator-Train: step: 3600; ce: 1.0774486; steps/sec: 181.83;\n",
      "FastEstimator-Train: step: 3700; ce: 1.0643111; steps/sec: 167.5;\n",
      "FastEstimator-Train: step: 3800; ce: 0.9648196; steps/sec: 172.54;\n",
      "FastEstimator-Train: step: 3900; ce: 0.8682742; steps/sec: 199.78;\n",
      "FastEstimator-Train: step: 4000; ce: 1.1121304; steps/sec: 178.75;\n",
      "FastEstimator-Train: step: 4100; ce: 0.62303936; steps/sec: 164.95;\n",
      "FastEstimator-Train: step: 4200; ce: 0.9470713; steps/sec: 184.65;\n",
      "FastEstimator-Train: step: 4300; ce: 1.028959; steps/sec: 198.64;\n",
      "FastEstimator-Train: step: 4400; ce: 1.0221851; steps/sec: 198.86;\n",
      "FastEstimator-Train: step: 4500; ce: 0.75193745; steps/sec: 196.48;\n",
      "FastEstimator-Train: step: 4600; ce: 0.76162714; steps/sec: 198.78;\n",
      "FastEstimator-ModelSaver: Saved model to C:\\Users\\223043~1\\AppData\\Local\\Temp\\tmp5hdbure3\\Without_augmentation_epoch_3.pt\n",
      "FastEstimator-Train: step: 4689; epoch: 3; epoch_time: 8.82 sec;\n",
      "Eval Progress: 1/156;\n",
      "Eval Progress: 52/156; steps/sec: 291.44;\n",
      "Eval Progress: 104/156; steps/sec: 285.91;\n",
      "Eval Progress: 156/156; steps/sec: 301.08;\n",
      "FastEstimator-Eval: step: 4689; epoch: 3; accuracy: 0.6736; ce: 0.94135106;\n",
      "FastEstimator-Finish: step: 4689; total_time: 28.18 sec; Without_augmentation_lr: 0.001;\n"
     ]
    }
   ],
   "source": [
    "save_dir = tempfile.mkdtemp()\n",
    "est, no_aug_pipe = get_estimator(save_dir, weight_path=None, model_name='Without_augmentation', epochs=3, test_rotate=0, visualize=True)\n",
    "est.fit()"
   ]
  },
  {
   "cell_type": "markdown",
   "id": "5649840f",
   "metadata": {},
   "source": [
    "Now that we have trained our model without any augmentations, let's load the trained model and test its performance on test set while the input images are rotated at various degrees. We will use FastEstimator Search API to accomplish this.\n",
    "\n",
    "First, let's define a generic evaluation function for Grid Search"
   ]
  },
  {
   "cell_type": "code",
   "execution_count": 5,
   "id": "c8cac2ab",
   "metadata": {
    "scrolled": true
   },
   "outputs": [],
   "source": [
    "from fastestimator.search.visualize import visualize_search\n",
    "from fastestimator.search import GridSearch\n",
    "\n",
    "def score_fn(search_idx, rotate, weight_path, save_dir, field_name):\n",
    "    est = get_estimator(save_dir, weight_path=weight_path, test_rotate=rotate, epochs=3, visualize=False)\n",
    "    hist = est.test(summary=\"myexp\")\n",
    "    acc = float(hist.history[\"test\"][\"accuracy\"][0])\n",
    "    return {field_name: acc}\n"
   ]
  },
  {
   "cell_type": "markdown",
   "id": "df20db69",
   "metadata": {},
   "source": [
    "We take a range of rotation from 0 to 360 degrees(at an interval of 10) and use Grid Search to pass the rotation angles the estimator function"
   ]
  },
  {
   "cell_type": "code",
   "execution_count": 6,
   "id": "00e48f22",
   "metadata": {},
   "outputs": [
    {
     "name": "stdout",
     "output_type": "stream",
     "text": [
      "FastEstimator-Warn: Pipeline multiprocessing is disabled. OS must support the 'fork' start method.\n",
      "FastEstimator-Test: step: None; epoch: 3; accuracy: 0.679; ce: 0.9338175;\n",
      "FastEstimator-Search: Evaluated {'rotate': 0, 'search_idx': 1}, result: {'Accuracy without Augmentation': 0.679}\n",
      "FastEstimator-Warn: Pipeline multiprocessing is disabled. OS must support the 'fork' start method.\n",
      "FastEstimator-Test: step: None; epoch: 3; accuracy: 0.6004; ce: 1.1807765;\n",
      "FastEstimator-Search: Evaluated {'rotate': 10, 'search_idx': 2}, result: {'Accuracy without Augmentation': 0.6004}\n",
      "FastEstimator-Warn: Pipeline multiprocessing is disabled. OS must support the 'fork' start method.\n",
      "FastEstimator-Test: step: None; epoch: 3; accuracy: 0.5148; ce: 1.479284;\n",
      "FastEstimator-Search: Evaluated {'rotate': 20, 'search_idx': 3}, result: {'Accuracy without Augmentation': 0.5148}\n",
      "FastEstimator-Warn: Pipeline multiprocessing is disabled. OS must support the 'fork' start method.\n",
      "FastEstimator-Test: step: None; epoch: 3; accuracy: 0.406; ce: 1.9570204;\n",
      "FastEstimator-Search: Evaluated {'rotate': 30, 'search_idx': 4}, result: {'Accuracy without Augmentation': 0.406}\n",
      "FastEstimator-Warn: Pipeline multiprocessing is disabled. OS must support the 'fork' start method.\n",
      "FastEstimator-Test: step: None; epoch: 3; accuracy: 0.3202; ce: 2.4810688;\n",
      "FastEstimator-Search: Evaluated {'rotate': 40, 'search_idx': 5}, result: {'Accuracy without Augmentation': 0.3202}\n",
      "FastEstimator-Warn: Pipeline multiprocessing is disabled. OS must support the 'fork' start method.\n",
      "FastEstimator-Test: step: None; epoch: 3; accuracy: 0.2668; ce: 2.8656473;\n",
      "FastEstimator-Search: Evaluated {'rotate': 50, 'search_idx': 6}, result: {'Accuracy without Augmentation': 0.2668}\n",
      "FastEstimator-Warn: Pipeline multiprocessing is disabled. OS must support the 'fork' start method.\n",
      "FastEstimator-Test: step: None; epoch: 3; accuracy: 0.2414; ce: 3.0178988;\n",
      "FastEstimator-Search: Evaluated {'rotate': 60, 'search_idx': 7}, result: {'Accuracy without Augmentation': 0.2414}\n",
      "FastEstimator-Warn: Pipeline multiprocessing is disabled. OS must support the 'fork' start method.\n",
      "FastEstimator-Test: step: None; epoch: 3; accuracy: 0.2358; ce: 3.011506;\n",
      "FastEstimator-Search: Evaluated {'rotate': 70, 'search_idx': 8}, result: {'Accuracy without Augmentation': 0.2358}\n",
      "FastEstimator-Warn: Pipeline multiprocessing is disabled. OS must support the 'fork' start method.\n",
      "FastEstimator-Test: step: None; epoch: 3; accuracy: 0.23; ce: 3.0075035;\n",
      "FastEstimator-Search: Evaluated {'rotate': 80, 'search_idx': 9}, result: {'Accuracy without Augmentation': 0.23}\n",
      "FastEstimator-Warn: Pipeline multiprocessing is disabled. OS must support the 'fork' start method.\n",
      "FastEstimator-Test: step: None; epoch: 3; accuracy: 0.2636; ce: 2.812477;\n",
      "FastEstimator-Search: Evaluated {'rotate': 90, 'search_idx': 10}, result: {'Accuracy without Augmentation': 0.2636}\n",
      "FastEstimator-Warn: Pipeline multiprocessing is disabled. OS must support the 'fork' start method.\n",
      "FastEstimator-Test: step: None; epoch: 3; accuracy: 0.2298; ce: 3.1919572;\n",
      "FastEstimator-Search: Evaluated {'rotate': 100, 'search_idx': 11}, result: {'Accuracy without Augmentation': 0.2298}\n",
      "FastEstimator-Warn: Pipeline multiprocessing is disabled. OS must support the 'fork' start method.\n",
      "FastEstimator-Test: step: None; epoch: 3; accuracy: 0.218; ce: 3.369531;\n",
      "FastEstimator-Search: Evaluated {'rotate': 110, 'search_idx': 12}, result: {'Accuracy without Augmentation': 0.218}\n",
      "FastEstimator-Warn: Pipeline multiprocessing is disabled. OS must support the 'fork' start method.\n",
      "FastEstimator-Test: step: None; epoch: 3; accuracy: 0.2136; ce: 3.5054076;\n",
      "FastEstimator-Search: Evaluated {'rotate': 120, 'search_idx': 13}, result: {'Accuracy without Augmentation': 0.2136}\n",
      "FastEstimator-Warn: Pipeline multiprocessing is disabled. OS must support the 'fork' start method.\n",
      "FastEstimator-Test: step: None; epoch: 3; accuracy: 0.2156; ce: 3.538981;\n",
      "FastEstimator-Search: Evaluated {'rotate': 130, 'search_idx': 14}, result: {'Accuracy without Augmentation': 0.2156}\n",
      "FastEstimator-Warn: Pipeline multiprocessing is disabled. OS must support the 'fork' start method.\n",
      "FastEstimator-Test: step: None; epoch: 3; accuracy: 0.223; ce: 3.3795907;\n",
      "FastEstimator-Search: Evaluated {'rotate': 140, 'search_idx': 15}, result: {'Accuracy without Augmentation': 0.223}\n",
      "FastEstimator-Warn: Pipeline multiprocessing is disabled. OS must support the 'fork' start method.\n",
      "FastEstimator-Test: step: None; epoch: 3; accuracy: 0.239; ce: 3.0545926;\n",
      "FastEstimator-Search: Evaluated {'rotate': 150, 'search_idx': 16}, result: {'Accuracy without Augmentation': 0.239}\n",
      "FastEstimator-Warn: Pipeline multiprocessing is disabled. OS must support the 'fork' start method.\n",
      "FastEstimator-Test: step: None; epoch: 3; accuracy: 0.261; ce: 2.7300205;\n",
      "FastEstimator-Search: Evaluated {'rotate': 160, 'search_idx': 17}, result: {'Accuracy without Augmentation': 0.261}\n",
      "FastEstimator-Warn: Pipeline multiprocessing is disabled. OS must support the 'fork' start method.\n",
      "FastEstimator-Test: step: None; epoch: 3; accuracy: 0.2672; ce: 2.5474594;\n",
      "FastEstimator-Search: Evaluated {'rotate': 170, 'search_idx': 18}, result: {'Accuracy without Augmentation': 0.2672}\n",
      "FastEstimator-Warn: Pipeline multiprocessing is disabled. OS must support the 'fork' start method.\n",
      "FastEstimator-Test: step: None; epoch: 3; accuracy: 0.3112; ce: 2.3418863;\n",
      "FastEstimator-Search: Evaluated {'rotate': 180, 'search_idx': 19}, result: {'Accuracy without Augmentation': 0.3112}\n",
      "FastEstimator-Warn: Pipeline multiprocessing is disabled. OS must support the 'fork' start method.\n",
      "FastEstimator-Test: step: None; epoch: 3; accuracy: 0.267; ce: 2.5666044;\n",
      "FastEstimator-Search: Evaluated {'rotate': 190, 'search_idx': 20}, result: {'Accuracy without Augmentation': 0.267}\n",
      "FastEstimator-Warn: Pipeline multiprocessing is disabled. OS must support the 'fork' start method.\n",
      "FastEstimator-Test: step: None; epoch: 3; accuracy: 0.2528; ce: 2.7690117;\n",
      "FastEstimator-Search: Evaluated {'rotate': 200, 'search_idx': 21}, result: {'Accuracy without Augmentation': 0.2528}\n",
      "FastEstimator-Warn: Pipeline multiprocessing is disabled. OS must support the 'fork' start method.\n",
      "FastEstimator-Test: step: None; epoch: 3; accuracy: 0.2258; ce: 3.086462;\n",
      "FastEstimator-Search: Evaluated {'rotate': 210, 'search_idx': 22}, result: {'Accuracy without Augmentation': 0.2258}\n",
      "FastEstimator-Warn: Pipeline multiprocessing is disabled. OS must support the 'fork' start method.\n",
      "FastEstimator-Test: step: None; epoch: 3; accuracy: 0.209; ce: 3.4180176;\n",
      "FastEstimator-Search: Evaluated {'rotate': 220, 'search_idx': 23}, result: {'Accuracy without Augmentation': 0.209}\n",
      "FastEstimator-Warn: Pipeline multiprocessing is disabled. OS must support the 'fork' start method.\n",
      "FastEstimator-Test: step: None; epoch: 3; accuracy: 0.2118; ce: 3.5926938;\n",
      "FastEstimator-Search: Evaluated {'rotate': 230, 'search_idx': 24}, result: {'Accuracy without Augmentation': 0.2118}\n",
      "FastEstimator-Warn: Pipeline multiprocessing is disabled. OS must support the 'fork' start method.\n",
      "FastEstimator-Test: step: None; epoch: 3; accuracy: 0.2044; ce: 3.57296;\n",
      "FastEstimator-Search: Evaluated {'rotate': 240, 'search_idx': 25}, result: {'Accuracy without Augmentation': 0.2044}\n",
      "FastEstimator-Warn: Pipeline multiprocessing is disabled. OS must support the 'fork' start method.\n",
      "FastEstimator-Test: step: None; epoch: 3; accuracy: 0.2068; ce: 3.4424505;\n",
      "FastEstimator-Search: Evaluated {'rotate': 250, 'search_idx': 26}, result: {'Accuracy without Augmentation': 0.2068}\n",
      "FastEstimator-Warn: Pipeline multiprocessing is disabled. OS must support the 'fork' start method.\n",
      "FastEstimator-Test: step: None; epoch: 3; accuracy: 0.2048; ce: 3.287991;\n",
      "FastEstimator-Search: Evaluated {'rotate': 260, 'search_idx': 27}, result: {'Accuracy without Augmentation': 0.2048}\n",
      "FastEstimator-Warn: Pipeline multiprocessing is disabled. OS must support the 'fork' start method.\n",
      "FastEstimator-Test: step: None; epoch: 3; accuracy: 0.2418; ce: 2.9688907;\n",
      "FastEstimator-Search: Evaluated {'rotate': 270, 'search_idx': 28}, result: {'Accuracy without Augmentation': 0.2418}\n",
      "FastEstimator-Warn: Pipeline multiprocessing is disabled. OS must support the 'fork' start method.\n",
      "FastEstimator-Test: step: None; epoch: 3; accuracy: 0.2152; ce: 3.1443326;\n",
      "FastEstimator-Search: Evaluated {'rotate': 280, 'search_idx': 29}, result: {'Accuracy without Augmentation': 0.2152}\n",
      "FastEstimator-Warn: Pipeline multiprocessing is disabled. OS must support the 'fork' start method.\n",
      "FastEstimator-Test: step: None; epoch: 3; accuracy: 0.2268; ce: 3.1010458;\n",
      "FastEstimator-Search: Evaluated {'rotate': 290, 'search_idx': 30}, result: {'Accuracy without Augmentation': 0.2268}\n",
      "FastEstimator-Warn: Pipeline multiprocessing is disabled. OS must support the 'fork' start method.\n",
      "FastEstimator-Test: step: None; epoch: 3; accuracy: 0.2452; ce: 3.0125225;\n",
      "FastEstimator-Search: Evaluated {'rotate': 300, 'search_idx': 31}, result: {'Accuracy without Augmentation': 0.2452}\n",
      "FastEstimator-Warn: Pipeline multiprocessing is disabled. OS must support the 'fork' start method.\n",
      "FastEstimator-Test: step: None; epoch: 3; accuracy: 0.276; ce: 2.8232539;\n",
      "FastEstimator-Search: Evaluated {'rotate': 310, 'search_idx': 32}, result: {'Accuracy without Augmentation': 0.276}\n",
      "FastEstimator-Warn: Pipeline multiprocessing is disabled. OS must support the 'fork' start method.\n",
      "FastEstimator-Test: step: None; epoch: 3; accuracy: 0.3252; ce: 2.4427633;\n",
      "FastEstimator-Search: Evaluated {'rotate': 320, 'search_idx': 33}, result: {'Accuracy without Augmentation': 0.3252}\n",
      "FastEstimator-Warn: Pipeline multiprocessing is disabled. OS must support the 'fork' start method.\n",
      "FastEstimator-Test: step: None; epoch: 3; accuracy: 0.4044; ce: 1.9312184;\n",
      "FastEstimator-Search: Evaluated {'rotate': 330, 'search_idx': 34}, result: {'Accuracy without Augmentation': 0.4044}\n",
      "FastEstimator-Warn: Pipeline multiprocessing is disabled. OS must support the 'fork' start method.\n",
      "FastEstimator-Test: step: None; epoch: 3; accuracy: 0.513; ce: 1.4416419;\n",
      "FastEstimator-Search: Evaluated {'rotate': 340, 'search_idx': 35}, result: {'Accuracy without Augmentation': 0.513}\n",
      "FastEstimator-Warn: Pipeline multiprocessing is disabled. OS must support the 'fork' start method.\n",
      "FastEstimator-Test: step: None; epoch: 3; accuracy: 0.5984; ce: 1.1507611;\n",
      "FastEstimator-Search: Evaluated {'rotate': 350, 'search_idx': 36}, result: {'Accuracy without Augmentation': 0.5984}\n"
     ]
    }
   ],
   "source": [
    "weight_path = os.path.join(save_dir, 'Without_augmentation_epoch_3.pt')\n",
    "rot = list(range(0, 360, 10))\n",
    "\n",
    "no_aug_grid_search = GridSearch(eval_fn=lambda search_idx, rotate: score_fn(search_idx, rotate, weight_path, save_dir, field_name=\"Accuracy without Augmentation\"), params={\"rotate\": rot})\n",
    "\n",
    "no_aug_grid_search.fit()\n"
   ]
  },
  {
   "cell_type": "markdown",
   "id": "115e083e",
   "metadata": {},
   "source": [
    "Let's visualize how our model performs when tested on rotated images"
   ]
  },
  {
   "cell_type": "code",
   "execution_count": 7,
   "id": "705e59df",
   "metadata": {},
   "outputs": [
    {
     "data": {
      "application/vnd.plotly.v1+json": {
       "config": {
        "displaylogo": false,
        "plotlyServerURL": "https://plot.ly",
        "toImageButtonOptions": {
         "filename": "figure",
         "format": "png",
         "height": null,
         "scale": 5,
         "width": null
        }
       },
       "data": [
        {
         "legendgroup": "Accuracy without Augmentation",
         "line": {
          "color": "rgba(1,115,178,1.0)"
         },
         "marker": {
          "symbol": "circle"
         },
         "mode": "lines+markers",
         "name": "Accuracy without Augmentation",
         "showlegend": true,
         "type": "scatter",
         "x": [
          0,
          10,
          20,
          30,
          40,
          50,
          60,
          70,
          80,
          90,
          100,
          110,
          120,
          130,
          140,
          150,
          160,
          170,
          180,
          190,
          200,
          210,
          220,
          230,
          240,
          250,
          260,
          270,
          280,
          290,
          300,
          310,
          320,
          330,
          340,
          350
         ],
         "xaxis": "x",
         "y": [
          0.679,
          0.6004,
          0.5148,
          0.406,
          0.3202,
          0.2668,
          0.2414,
          0.2358,
          0.23,
          0.2636,
          0.2298,
          0.218,
          0.2136,
          0.2156,
          0.223,
          0.239,
          0.261,
          0.2672,
          0.3112,
          0.267,
          0.2528,
          0.2258,
          0.209,
          0.2118,
          0.2044,
          0.2068,
          0.2048,
          0.2418,
          0.2152,
          0.2268,
          0.2452,
          0.276,
          0.3252,
          0.4044,
          0.513,
          0.5984
         ],
         "yaxis": "y"
        }
       ],
       "layout": {
        "height": 280,
        "hovermode": "closest",
        "legend": {
         "font": {
          "size": 11
         },
         "tracegroupgap": 5
        },
        "margin": {
         "t": 50
        },
        "modebar": {
         "add": [
          "hoverclosest",
          "hovercompare"
         ],
         "remove": [
          "select2d",
          "lasso2d"
         ]
        },
        "plot_bgcolor": "#FFF",
        "template": {
         "data": {
          "bar": [
           {
            "error_x": {
             "color": "#2a3f5f"
            },
            "error_y": {
             "color": "#2a3f5f"
            },
            "marker": {
             "line": {
              "color": "#E5ECF6",
              "width": 0.5
             },
             "pattern": {
              "fillmode": "overlay",
              "size": 10,
              "solidity": 0.2
             }
            },
            "type": "bar"
           }
          ],
          "barpolar": [
           {
            "marker": {
             "line": {
              "color": "#E5ECF6",
              "width": 0.5
             },
             "pattern": {
              "fillmode": "overlay",
              "size": 10,
              "solidity": 0.2
             }
            },
            "type": "barpolar"
           }
          ],
          "carpet": [
           {
            "aaxis": {
             "endlinecolor": "#2a3f5f",
             "gridcolor": "white",
             "linecolor": "white",
             "minorgridcolor": "white",
             "startlinecolor": "#2a3f5f"
            },
            "baxis": {
             "endlinecolor": "#2a3f5f",
             "gridcolor": "white",
             "linecolor": "white",
             "minorgridcolor": "white",
             "startlinecolor": "#2a3f5f"
            },
            "type": "carpet"
           }
          ],
          "choropleth": [
           {
            "colorbar": {
             "outlinewidth": 0,
             "ticks": ""
            },
            "type": "choropleth"
           }
          ],
          "contour": [
           {
            "colorbar": {
             "outlinewidth": 0,
             "ticks": ""
            },
            "colorscale": [
             [
              0,
              "#0d0887"
             ],
             [
              0.1111111111111111,
              "#46039f"
             ],
             [
              0.2222222222222222,
              "#7201a8"
             ],
             [
              0.3333333333333333,
              "#9c179e"
             ],
             [
              0.4444444444444444,
              "#bd3786"
             ],
             [
              0.5555555555555556,
              "#d8576b"
             ],
             [
              0.6666666666666666,
              "#ed7953"
             ],
             [
              0.7777777777777778,
              "#fb9f3a"
             ],
             [
              0.8888888888888888,
              "#fdca26"
             ],
             [
              1,
              "#f0f921"
             ]
            ],
            "type": "contour"
           }
          ],
          "contourcarpet": [
           {
            "colorbar": {
             "outlinewidth": 0,
             "ticks": ""
            },
            "type": "contourcarpet"
           }
          ],
          "heatmap": [
           {
            "colorbar": {
             "outlinewidth": 0,
             "ticks": ""
            },
            "colorscale": [
             [
              0,
              "#0d0887"
             ],
             [
              0.1111111111111111,
              "#46039f"
             ],
             [
              0.2222222222222222,
              "#7201a8"
             ],
             [
              0.3333333333333333,
              "#9c179e"
             ],
             [
              0.4444444444444444,
              "#bd3786"
             ],
             [
              0.5555555555555556,
              "#d8576b"
             ],
             [
              0.6666666666666666,
              "#ed7953"
             ],
             [
              0.7777777777777778,
              "#fb9f3a"
             ],
             [
              0.8888888888888888,
              "#fdca26"
             ],
             [
              1,
              "#f0f921"
             ]
            ],
            "type": "heatmap"
           }
          ],
          "heatmapgl": [
           {
            "colorbar": {
             "outlinewidth": 0,
             "ticks": ""
            },
            "colorscale": [
             [
              0,
              "#0d0887"
             ],
             [
              0.1111111111111111,
              "#46039f"
             ],
             [
              0.2222222222222222,
              "#7201a8"
             ],
             [
              0.3333333333333333,
              "#9c179e"
             ],
             [
              0.4444444444444444,
              "#bd3786"
             ],
             [
              0.5555555555555556,
              "#d8576b"
             ],
             [
              0.6666666666666666,
              "#ed7953"
             ],
             [
              0.7777777777777778,
              "#fb9f3a"
             ],
             [
              0.8888888888888888,
              "#fdca26"
             ],
             [
              1,
              "#f0f921"
             ]
            ],
            "type": "heatmapgl"
           }
          ],
          "histogram": [
           {
            "marker": {
             "pattern": {
              "fillmode": "overlay",
              "size": 10,
              "solidity": 0.2
             }
            },
            "type": "histogram"
           }
          ],
          "histogram2d": [
           {
            "colorbar": {
             "outlinewidth": 0,
             "ticks": ""
            },
            "colorscale": [
             [
              0,
              "#0d0887"
             ],
             [
              0.1111111111111111,
              "#46039f"
             ],
             [
              0.2222222222222222,
              "#7201a8"
             ],
             [
              0.3333333333333333,
              "#9c179e"
             ],
             [
              0.4444444444444444,
              "#bd3786"
             ],
             [
              0.5555555555555556,
              "#d8576b"
             ],
             [
              0.6666666666666666,
              "#ed7953"
             ],
             [
              0.7777777777777778,
              "#fb9f3a"
             ],
             [
              0.8888888888888888,
              "#fdca26"
             ],
             [
              1,
              "#f0f921"
             ]
            ],
            "type": "histogram2d"
           }
          ],
          "histogram2dcontour": [
           {
            "colorbar": {
             "outlinewidth": 0,
             "ticks": ""
            },
            "colorscale": [
             [
              0,
              "#0d0887"
             ],
             [
              0.1111111111111111,
              "#46039f"
             ],
             [
              0.2222222222222222,
              "#7201a8"
             ],
             [
              0.3333333333333333,
              "#9c179e"
             ],
             [
              0.4444444444444444,
              "#bd3786"
             ],
             [
              0.5555555555555556,
              "#d8576b"
             ],
             [
              0.6666666666666666,
              "#ed7953"
             ],
             [
              0.7777777777777778,
              "#fb9f3a"
             ],
             [
              0.8888888888888888,
              "#fdca26"
             ],
             [
              1,
              "#f0f921"
             ]
            ],
            "type": "histogram2dcontour"
           }
          ],
          "mesh3d": [
           {
            "colorbar": {
             "outlinewidth": 0,
             "ticks": ""
            },
            "type": "mesh3d"
           }
          ],
          "parcoords": [
           {
            "line": {
             "colorbar": {
              "outlinewidth": 0,
              "ticks": ""
             }
            },
            "type": "parcoords"
           }
          ],
          "pie": [
           {
            "automargin": true,
            "type": "pie"
           }
          ],
          "scatter": [
           {
            "fillpattern": {
             "fillmode": "overlay",
             "size": 10,
             "solidity": 0.2
            },
            "type": "scatter"
           }
          ],
          "scatter3d": [
           {
            "line": {
             "colorbar": {
              "outlinewidth": 0,
              "ticks": ""
             }
            },
            "marker": {
             "colorbar": {
              "outlinewidth": 0,
              "ticks": ""
             }
            },
            "type": "scatter3d"
           }
          ],
          "scattercarpet": [
           {
            "marker": {
             "colorbar": {
              "outlinewidth": 0,
              "ticks": ""
             }
            },
            "type": "scattercarpet"
           }
          ],
          "scattergeo": [
           {
            "marker": {
             "colorbar": {
              "outlinewidth": 0,
              "ticks": ""
             }
            },
            "type": "scattergeo"
           }
          ],
          "scattergl": [
           {
            "marker": {
             "colorbar": {
              "outlinewidth": 0,
              "ticks": ""
             }
            },
            "type": "scattergl"
           }
          ],
          "scattermapbox": [
           {
            "marker": {
             "colorbar": {
              "outlinewidth": 0,
              "ticks": ""
             }
            },
            "type": "scattermapbox"
           }
          ],
          "scatterpolar": [
           {
            "marker": {
             "colorbar": {
              "outlinewidth": 0,
              "ticks": ""
             }
            },
            "type": "scatterpolar"
           }
          ],
          "scatterpolargl": [
           {
            "marker": {
             "colorbar": {
              "outlinewidth": 0,
              "ticks": ""
             }
            },
            "type": "scatterpolargl"
           }
          ],
          "scatterternary": [
           {
            "marker": {
             "colorbar": {
              "outlinewidth": 0,
              "ticks": ""
             }
            },
            "type": "scatterternary"
           }
          ],
          "surface": [
           {
            "colorbar": {
             "outlinewidth": 0,
             "ticks": ""
            },
            "colorscale": [
             [
              0,
              "#0d0887"
             ],
             [
              0.1111111111111111,
              "#46039f"
             ],
             [
              0.2222222222222222,
              "#7201a8"
             ],
             [
              0.3333333333333333,
              "#9c179e"
             ],
             [
              0.4444444444444444,
              "#bd3786"
             ],
             [
              0.5555555555555556,
              "#d8576b"
             ],
             [
              0.6666666666666666,
              "#ed7953"
             ],
             [
              0.7777777777777778,
              "#fb9f3a"
             ],
             [
              0.8888888888888888,
              "#fdca26"
             ],
             [
              1,
              "#f0f921"
             ]
            ],
            "type": "surface"
           }
          ],
          "table": [
           {
            "cells": {
             "fill": {
              "color": "#EBF0F8"
             },
             "line": {
              "color": "white"
             }
            },
            "header": {
             "fill": {
              "color": "#C8D4E3"
             },
             "line": {
              "color": "white"
             }
            },
            "type": "table"
           }
          ]
         },
         "layout": {
          "annotationdefaults": {
           "arrowcolor": "#2a3f5f",
           "arrowhead": 0,
           "arrowwidth": 1
          },
          "autotypenumbers": "strict",
          "coloraxis": {
           "colorbar": {
            "outlinewidth": 0,
            "ticks": ""
           }
          },
          "colorscale": {
           "diverging": [
            [
             0,
             "#8e0152"
            ],
            [
             0.1,
             "#c51b7d"
            ],
            [
             0.2,
             "#de77ae"
            ],
            [
             0.3,
             "#f1b6da"
            ],
            [
             0.4,
             "#fde0ef"
            ],
            [
             0.5,
             "#f7f7f7"
            ],
            [
             0.6,
             "#e6f5d0"
            ],
            [
             0.7,
             "#b8e186"
            ],
            [
             0.8,
             "#7fbc41"
            ],
            [
             0.9,
             "#4d9221"
            ],
            [
             1,
             "#276419"
            ]
           ],
           "sequential": [
            [
             0,
             "#0d0887"
            ],
            [
             0.1111111111111111,
             "#46039f"
            ],
            [
             0.2222222222222222,
             "#7201a8"
            ],
            [
             0.3333333333333333,
             "#9c179e"
            ],
            [
             0.4444444444444444,
             "#bd3786"
            ],
            [
             0.5555555555555556,
             "#d8576b"
            ],
            [
             0.6666666666666666,
             "#ed7953"
            ],
            [
             0.7777777777777778,
             "#fb9f3a"
            ],
            [
             0.8888888888888888,
             "#fdca26"
            ],
            [
             1,
             "#f0f921"
            ]
           ],
           "sequentialminus": [
            [
             0,
             "#0d0887"
            ],
            [
             0.1111111111111111,
             "#46039f"
            ],
            [
             0.2222222222222222,
             "#7201a8"
            ],
            [
             0.3333333333333333,
             "#9c179e"
            ],
            [
             0.4444444444444444,
             "#bd3786"
            ],
            [
             0.5555555555555556,
             "#d8576b"
            ],
            [
             0.6666666666666666,
             "#ed7953"
            ],
            [
             0.7777777777777778,
             "#fb9f3a"
            ],
            [
             0.8888888888888888,
             "#fdca26"
            ],
            [
             1,
             "#f0f921"
            ]
           ]
          },
          "colorway": [
           "#636efa",
           "#EF553B",
           "#00cc96",
           "#ab63fa",
           "#FFA15A",
           "#19d3f3",
           "#FF6692",
           "#B6E880",
           "#FF97FF",
           "#FECB52"
          ],
          "font": {
           "color": "#2a3f5f"
          },
          "geo": {
           "bgcolor": "white",
           "lakecolor": "white",
           "landcolor": "#E5ECF6",
           "showlakes": true,
           "showland": true,
           "subunitcolor": "white"
          },
          "hoverlabel": {
           "align": "left"
          },
          "hovermode": "closest",
          "mapbox": {
           "style": "light"
          },
          "paper_bgcolor": "white",
          "plot_bgcolor": "#E5ECF6",
          "polar": {
           "angularaxis": {
            "gridcolor": "white",
            "linecolor": "white",
            "ticks": ""
           },
           "bgcolor": "#E5ECF6",
           "radialaxis": {
            "gridcolor": "white",
            "linecolor": "white",
            "ticks": ""
           }
          },
          "scene": {
           "xaxis": {
            "backgroundcolor": "#E5ECF6",
            "gridcolor": "white",
            "gridwidth": 2,
            "linecolor": "white",
            "showbackground": true,
            "ticks": "",
            "zerolinecolor": "white"
           },
           "yaxis": {
            "backgroundcolor": "#E5ECF6",
            "gridcolor": "white",
            "gridwidth": 2,
            "linecolor": "white",
            "showbackground": true,
            "ticks": "",
            "zerolinecolor": "white"
           },
           "zaxis": {
            "backgroundcolor": "#E5ECF6",
            "gridcolor": "white",
            "gridwidth": 2,
            "linecolor": "white",
            "showbackground": true,
            "ticks": "",
            "zerolinecolor": "white"
           }
          },
          "shapedefaults": {
           "line": {
            "color": "#2a3f5f"
           }
          },
          "ternary": {
           "aaxis": {
            "gridcolor": "white",
            "linecolor": "white",
            "ticks": ""
           },
           "baxis": {
            "gridcolor": "white",
            "linecolor": "white",
            "ticks": ""
           },
           "bgcolor": "#E5ECF6",
           "caxis": {
            "gridcolor": "white",
            "linecolor": "white",
            "ticks": ""
           }
          },
          "title": {
           "x": 0.05
          },
          "xaxis": {
           "automargin": true,
           "gridcolor": "white",
           "linecolor": "white",
           "ticks": "",
           "title": {
            "standoff": 15
           },
           "zerolinecolor": "white",
           "zerolinewidth": 2
          },
          "yaxis": {
           "automargin": true,
           "gridcolor": "white",
           "linecolor": "white",
           "ticks": "",
           "title": {
            "standoff": 15
           },
           "zerolinecolor": "white",
           "zerolinewidth": 2
          }
         }
        },
        "title": {
         "text": "Model Robustness Without Augmentation",
         "x": 0.5
        },
        "xaxis": {
         "anchor": "y",
         "domain": [
          0,
          1
         ],
         "linecolor": "#BCCCDC",
         "showticklabels": true,
         "title": {
          "text": "rotate"
         }
        },
        "yaxis": {
         "anchor": "x",
         "domain": [
          0,
          1
         ],
         "linecolor": "#BCCCDC",
         "title": {
          "text": "Accuracy without Augmentation"
         }
        }
       }
      }
     },
     "metadata": {},
     "output_type": "display_data"
    }
   ],
   "source": [
    "visualize_search(search=no_aug_grid_search, title=\"Model Robustness Without Augmentation\")"
   ]
  },
  {
   "cell_type": "markdown",
   "id": "8851d4d6",
   "metadata": {},
   "source": [
    "<a id='ta16how_to_improve'></a>\n",
    "## How Data augmentation can help improve rotation robustness?\n",
    "\n",
    "It is clear from last experiment that as the angle of rotation increases the performance drops. This shows that the trained model is not robust to rotation while testing. Can we improve rotation robustness by augmentating training images?\n",
    "\n",
    "\n",
    "<a id='ta16shear'></a>\n",
    "### The effect of applying shear augmentation\n",
    "\n",
    "Shear is augmentation to move one or two sides of the image, turning a square or rectangle image into a trapezoidal image. Would training a model with Shear augmentation while training make it robust to rotation? Let's visualize the shear operation first.\n"
   ]
  },
  {
   "cell_type": "code",
   "execution_count": 8,
   "id": "b1c29991",
   "metadata": {
    "scrolled": false
   },
   "outputs": [
    {
     "name": "stdout",
     "output_type": "stream",
     "text": [
      "FastEstimator-Warn: Pipeline multiprocessing is disabled. OS must support the 'fork' start method.\n"
     ]
    },
    {
     "name": "stderr",
     "output_type": "stream",
     "text": [
      "c:\\Users\\223043597\\AppData\\Local\\Programs\\Python\\Python38\\lib\\site-packages\\albumentations\\imgaug\\transforms.py:337: FutureWarning:\n",
      "\n",
      "This IAAAffine is deprecated. Please use Affine instead\n",
      "\n"
     ]
    }
   ],
   "source": [
    "est, shear_pipe = get_estimator(save_dir, weight_path=None, model_name='Shear', train_shear=45, epochs=3, visualize=True)\n"
   ]
  },
  {
   "cell_type": "code",
   "execution_count": null,
   "id": "1250535c",
   "metadata": {},
   "outputs": [
    {
     "data": {
      "image/png": "[encoded data removed]",
      "text/plain": [
       "<IPython.core.display.Image object>"
      ]
     },
     "metadata": {},
     "output_type": "display_data"
    }
   ],
   "source": [
    "from fastestimator.util import GridDisplay, BatchDisplay\n",
    "\n",
    "shear_results = shear_pipe.get_results()\n",
    "no_aug_results = no_aug_pipe.get_results()\n",
    "\n",
    "sample_num = 3\n",
    "\n",
    "fig = GridDisplay([\n",
    "    BatchDisplay(image=no_aug_results['x'][0:sample_num], title=\"Pipeline Input\"),\n",
    "    BatchDisplay(image=shear_results['x'][0:sample_num], title=\"Pipeline Output\")\n",
    "])\n",
    "fig.show()\n"
   ]
  },
  {
   "cell_type": "markdown",
   "id": "3de84a1f",
   "metadata": {},
   "source": [
    "Now that we have visualized shear operation , let us train a model while applying random shear operation in range [-45, 45] degrees."
   ]
  },
  {
   "cell_type": "code",
   "execution_count": 9,
   "id": "d5900544",
   "metadata": {
    "scrolled": true
   },
   "outputs": [
    {
     "name": "stdout",
     "output_type": "stream",
     "text": [
      "    ______           __  ______     __  _                 __            \n",
      "   / ____/___ ______/ /_/ ____/____/ /_(_)___ ___  ____ _/ /_____  _____\n",
      "  / /_  / __ `/ ___/ __/ __/ / ___/ __/ / __ `__ \\/ __ `/ __/ __ \\/ ___/\n",
      " / __/ / /_/ (__  ) /_/ /___(__  ) /_/ / / / / / / /_/ / /_/ /_/ / /    \n",
      "/_/    \\__,_/____/\\__/_____/____/\\__/_/_/ /_/ /_/\\__,_/\\__/\\____/_/     \n",
      "                                                                        \n",
      "\n",
      "FastEstimator-Start: step: 1; logging_interval: 100; num_device: 1;\n",
      "FastEstimator-Train: step: 1; ce: 2.3378026;\n",
      "FastEstimator-Train: step: 100; ce: 2.0335546; steps/sec: 27.31;\n",
      "FastEstimator-Train: step: 200; ce: 1.779464; steps/sec: 28.52;\n",
      "FastEstimator-Train: step: 300; ce: 1.7361405; steps/sec: 30.22;\n",
      "FastEstimator-Train: step: 400; ce: 1.4763032; steps/sec: 27.62;\n",
      "FastEstimator-Train: step: 500; ce: 1.7565935; steps/sec: 28.97;\n",
      "FastEstimator-Train: step: 600; ce: 1.3033587; steps/sec: 28.36;\n",
      "FastEstimator-Train: step: 700; ce: 1.6728466; steps/sec: 30.28;\n",
      "FastEstimator-Train: step: 800; ce: 1.3970293; steps/sec: 28.45;\n",
      "FastEstimator-Train: step: 900; ce: 1.6142428; steps/sec: 30.0;\n",
      "FastEstimator-Train: step: 1000; ce: 1.4858215; steps/sec: 30.48;\n",
      "FastEstimator-Train: step: 1100; ce: 1.6941078; steps/sec: 28.71;\n",
      "FastEstimator-Train: step: 1200; ce: 1.2922938; steps/sec: 30.49;\n",
      "FastEstimator-Train: step: 1300; ce: 1.1451471; steps/sec: 29.83;\n",
      "FastEstimator-Train: step: 1400; ce: 1.2629167; steps/sec: 30.29;\n",
      "FastEstimator-Train: step: 1500; ce: 1.2974675; steps/sec: 29.51;\n",
      "FastEstimator-Train: step: 1563; epoch: 1; epoch_time: 53.77 sec;\n",
      "Eval Progress: 1/156;\n",
      "Eval Progress: 52/156; steps/sec: 158.55;\n",
      "Eval Progress: 104/156; steps/sec: 313.54;\n",
      "Eval Progress: 156/156; steps/sec: 321.02;\n",
      "FastEstimator-Eval: step: 1563; epoch: 1; accuracy: 0.5024; ce: 1.3787844;\n",
      "FastEstimator-Train: step: 1600; ce: 1.6281687; steps/sec: 29.81;\n",
      "FastEstimator-Train: step: 1700; ce: 1.1783714; steps/sec: 30.13;\n",
      "FastEstimator-Train: step: 1800; ce: 1.6897705; steps/sec: 28.3;\n",
      "FastEstimator-Train: step: 1900; ce: 1.3568103; steps/sec: 30.04;\n",
      "FastEstimator-Train: step: 2000; ce: 1.1735333; steps/sec: 27.86;\n",
      "FastEstimator-Train: step: 2100; ce: 1.0725555; steps/sec: 28.45;\n",
      "FastEstimator-Train: step: 2200; ce: 1.2269013; steps/sec: 27.68;\n",
      "FastEstimator-Train: step: 2300; ce: 1.2036383; steps/sec: 26.01;\n",
      "FastEstimator-Train: step: 2400; ce: 1.1520638; steps/sec: 28.64;\n",
      "FastEstimator-Train: step: 2500; ce: 1.1172357; steps/sec: 28.22;\n",
      "FastEstimator-Train: step: 2600; ce: 1.4366484; steps/sec: 27.2;\n",
      "FastEstimator-Train: step: 2700; ce: 1.7204887; steps/sec: 29.56;\n",
      "FastEstimator-Train: step: 2800; ce: 1.3337517; steps/sec: 28.29;\n",
      "FastEstimator-Train: step: 2900; ce: 1.2764034; steps/sec: 29.66;\n",
      "FastEstimator-Train: step: 3000; ce: 1.2740347; steps/sec: 28.08;\n",
      "FastEstimator-Train: step: 3100; ce: 1.0174217; steps/sec: 29.29;\n",
      "FastEstimator-Train: step: 3126; epoch: 2; epoch_time: 54.71 sec;\n",
      "Eval Progress: 1/156;\n",
      "Eval Progress: 52/156; steps/sec: 134.25;\n",
      "Eval Progress: 104/156; steps/sec: 334.72;\n",
      "Eval Progress: 156/156; steps/sec: 333.47;\n",
      "FastEstimator-Eval: step: 3126; epoch: 2; accuracy: 0.546; ce: 1.2769045;\n",
      "FastEstimator-Train: step: 3200; ce: 1.1123053; steps/sec: 31.49;\n",
      "FastEstimator-Train: step: 3300; ce: 1.2305423; steps/sec: 26.16;\n",
      "FastEstimator-Train: step: 3400; ce: 1.0138326; steps/sec: 29.37;\n",
      "FastEstimator-Train: step: 3500; ce: 0.9649904; steps/sec: 27.9;\n",
      "FastEstimator-Train: step: 3600; ce: 0.8161161; steps/sec: 29.0;\n",
      "FastEstimator-Train: step: 3700; ce: 1.0333958; steps/sec: 28.52;\n",
      "FastEstimator-Train: step: 3800; ce: 1.3281908; steps/sec: 28.82;\n",
      "FastEstimator-Train: step: 3900; ce: 1.4539102; steps/sec: 30.01;\n",
      "FastEstimator-Train: step: 4000; ce: 1.4852833; steps/sec: 28.19;\n",
      "FastEstimator-Train: step: 4100; ce: 1.2117682; steps/sec: 29.21;\n",
      "FastEstimator-Train: step: 4200; ce: 0.9776117; steps/sec: 28.38;\n",
      "FastEstimator-Train: step: 4300; ce: 1.3331282; steps/sec: 30.2;\n",
      "FastEstimator-Train: step: 4400; ce: 1.2553525; steps/sec: 28.28;\n",
      "FastEstimator-Train: step: 4500; ce: 1.1067667; steps/sec: 30.42;\n",
      "FastEstimator-Train: step: 4600; ce: 1.3052661; steps/sec: 28.44;\n",
      "FastEstimator-ModelSaver: Saved model to C:\\Users\\223043~1\\AppData\\Local\\Temp\\tmp5hdbure3\\Shear_epoch_3.pt\n",
      "FastEstimator-Train: step: 4689; epoch: 3; epoch_time: 54.07 sec;\n",
      "Eval Progress: 1/156;\n",
      "Eval Progress: 52/156; steps/sec: 159.89;\n",
      "Eval Progress: 104/156; steps/sec: 278.08;\n",
      "Eval Progress: 156/156; steps/sec: 280.01;\n",
      "FastEstimator-Eval: step: 4689; epoch: 3; accuracy: 0.5862; ce: 1.1484692;\n",
      "FastEstimator-Finish: step: 4689; Shear_lr: 0.001; total_time: 165.13 sec;\n"
     ]
    }
   ],
   "source": [
    "est.fit()"
   ]
  },
  {
   "cell_type": "markdown",
   "id": "6ee38351",
   "metadata": {},
   "source": [
    "Now that we have trained this new model of ours, let's use Grid Search again to test the performance of the model while the input images are rotated in range 0 to 360 degrees(at an interval of 10)"
   ]
  },
  {
   "cell_type": "code",
   "execution_count": 10,
   "id": "7c458054",
   "metadata": {},
   "outputs": [
    {
     "name": "stdout",
     "output_type": "stream",
     "text": [
      "FastEstimator-Warn: Pipeline multiprocessing is disabled. OS must support the 'fork' start method.\n",
      "FastEstimator-Test: step: None; epoch: 3; accuracy: 0.5868; ce: 1.163596;\n",
      "FastEstimator-Search: Evaluated {'rotate': 0, 'search_idx': 1}, result: {'Shear Accuracy': 0.5868}\n",
      "FastEstimator-Warn: Pipeline multiprocessing is disabled. OS must support the 'fork' start method.\n",
      "FastEstimator-Test: step: None; epoch: 3; accuracy: 0.5896; ce: 1.1458238;\n",
      "FastEstimator-Search: Evaluated {'rotate': 10, 'search_idx': 2}, result: {'Shear Accuracy': 0.5896}\n",
      "FastEstimator-Warn: Pipeline multiprocessing is disabled. OS must support the 'fork' start method.\n",
      "FastEstimator-Test: step: None; epoch: 3; accuracy: 0.5776; ce: 1.2027122;\n",
      "FastEstimator-Search: Evaluated {'rotate': 20, 'search_idx': 3}, result: {'Shear Accuracy': 0.5776}\n",
      "FastEstimator-Warn: Pipeline multiprocessing is disabled. OS must support the 'fork' start method.\n",
      "FastEstimator-Test: step: None; epoch: 3; accuracy: 0.5344; ce: 1.317542;\n",
      "FastEstimator-Search: Evaluated {'rotate': 30, 'search_idx': 4}, result: {'Shear Accuracy': 0.5344}\n",
      "FastEstimator-Warn: Pipeline multiprocessing is disabled. OS must support the 'fork' start method.\n",
      "FastEstimator-Test: step: None; epoch: 3; accuracy: 0.4818; ce: 1.475201;\n",
      "FastEstimator-Search: Evaluated {'rotate': 40, 'search_idx': 5}, result: {'Shear Accuracy': 0.4818}\n",
      "FastEstimator-Warn: Pipeline multiprocessing is disabled. OS must support the 'fork' start method.\n",
      "FastEstimator-Test: step: None; epoch: 3; accuracy: 0.4222; ce: 1.683434;\n",
      "FastEstimator-Search: Evaluated {'rotate': 50, 'search_idx': 6}, result: {'Shear Accuracy': 0.4222}\n",
      "FastEstimator-Warn: Pipeline multiprocessing is disabled. OS must support the 'fork' start method.\n",
      "FastEstimator-Test: step: None; epoch: 3; accuracy: 0.3608; ce: 1.8997068;\n",
      "FastEstimator-Search: Evaluated {'rotate': 60, 'search_idx': 7}, result: {'Shear Accuracy': 0.3608}\n",
      "FastEstimator-Warn: Pipeline multiprocessing is disabled. OS must support the 'fork' start method.\n",
      "FastEstimator-Test: step: None; epoch: 3; accuracy: 0.3154; ce: 2.1031625;\n",
      "FastEstimator-Search: Evaluated {'rotate': 70, 'search_idx': 8}, result: {'Shear Accuracy': 0.3154}\n",
      "FastEstimator-Warn: Pipeline multiprocessing is disabled. OS must support the 'fork' start method.\n",
      "FastEstimator-Test: step: None; epoch: 3; accuracy: 0.2812; ce: 2.2937596;\n",
      "FastEstimator-Search: Evaluated {'rotate': 80, 'search_idx': 9}, result: {'Shear Accuracy': 0.2812}\n",
      "FastEstimator-Warn: Pipeline multiprocessing is disabled. OS must support the 'fork' start method.\n",
      "FastEstimator-Test: step: None; epoch: 3; accuracy: 0.278; ce: 2.400913;\n",
      "FastEstimator-Search: Evaluated {'rotate': 90, 'search_idx': 10}, result: {'Shear Accuracy': 0.278}\n",
      "FastEstimator-Warn: Pipeline multiprocessing is disabled. OS must support the 'fork' start method.\n",
      "FastEstimator-Test: step: None; epoch: 3; accuracy: 0.2546; ce: 2.5547776;\n",
      "FastEstimator-Search: Evaluated {'rotate': 100, 'search_idx': 11}, result: {'Shear Accuracy': 0.2546}\n",
      "FastEstimator-Warn: Pipeline multiprocessing is disabled. OS must support the 'fork' start method.\n",
      "FastEstimator-Test: step: None; epoch: 3; accuracy: 0.252; ce: 2.632047;\n",
      "FastEstimator-Search: Evaluated {'rotate': 110, 'search_idx': 12}, result: {'Shear Accuracy': 0.252}\n",
      "FastEstimator-Warn: Pipeline multiprocessing is disabled. OS must support the 'fork' start method.\n",
      "FastEstimator-Test: step: None; epoch: 3; accuracy: 0.2498; ce: 2.6814218;\n",
      "FastEstimator-Search: Evaluated {'rotate': 120, 'search_idx': 13}, result: {'Shear Accuracy': 0.2498}\n",
      "FastEstimator-Warn: Pipeline multiprocessing is disabled. OS must support the 'fork' start method.\n",
      "FastEstimator-Test: step: None; epoch: 3; accuracy: 0.254; ce: 2.6784413;\n",
      "FastEstimator-Search: Evaluated {'rotate': 130, 'search_idx': 14}, result: {'Shear Accuracy': 0.254}\n",
      "FastEstimator-Warn: Pipeline multiprocessing is disabled. OS must support the 'fork' start method.\n",
      "FastEstimator-Test: step: None; epoch: 3; accuracy: 0.2596; ce: 2.6197562;\n",
      "FastEstimator-Search: Evaluated {'rotate': 140, 'search_idx': 15}, result: {'Shear Accuracy': 0.2596}\n",
      "FastEstimator-Warn: Pipeline multiprocessing is disabled. OS must support the 'fork' start method.\n",
      "FastEstimator-Test: step: None; epoch: 3; accuracy: 0.272; ce: 2.539024;\n",
      "FastEstimator-Search: Evaluated {'rotate': 150, 'search_idx': 16}, result: {'Shear Accuracy': 0.272}\n",
      "FastEstimator-Warn: Pipeline multiprocessing is disabled. OS must support the 'fork' start method.\n",
      "FastEstimator-Test: step: None; epoch: 3; accuracy: 0.2826; ce: 2.4520879;\n",
      "FastEstimator-Search: Evaluated {'rotate': 160, 'search_idx': 17}, result: {'Shear Accuracy': 0.2826}\n",
      "FastEstimator-Warn: Pipeline multiprocessing is disabled. OS must support the 'fork' start method.\n",
      "FastEstimator-Test: step: None; epoch: 3; accuracy: 0.2826; ce: 2.3944297;\n",
      "FastEstimator-Search: Evaluated {'rotate': 170, 'search_idx': 18}, result: {'Shear Accuracy': 0.2826}\n",
      "FastEstimator-Warn: Pipeline multiprocessing is disabled. OS must support the 'fork' start method.\n",
      "FastEstimator-Test: step: None; epoch: 3; accuracy: 0.2976; ce: 2.371547;\n",
      "FastEstimator-Search: Evaluated {'rotate': 180, 'search_idx': 19}, result: {'Shear Accuracy': 0.2976}\n",
      "FastEstimator-Warn: Pipeline multiprocessing is disabled. OS must support the 'fork' start method.\n",
      "FastEstimator-Test: step: None; epoch: 3; accuracy: 0.2856; ce: 2.3420897;\n",
      "FastEstimator-Search: Evaluated {'rotate': 190, 'search_idx': 20}, result: {'Shear Accuracy': 0.2856}\n",
      "FastEstimator-Warn: Pipeline multiprocessing is disabled. OS must support the 'fork' start method.\n",
      "FastEstimator-Test: step: None; epoch: 3; accuracy: 0.2894; ce: 2.3482292;\n",
      "FastEstimator-Search: Evaluated {'rotate': 200, 'search_idx': 21}, result: {'Shear Accuracy': 0.2894}\n",
      "FastEstimator-Warn: Pipeline multiprocessing is disabled. OS must support the 'fork' start method.\n",
      "FastEstimator-Test: step: None; epoch: 3; accuracy: 0.2798; ce: 2.3830123;\n",
      "FastEstimator-Search: Evaluated {'rotate': 210, 'search_idx': 22}, result: {'Shear Accuracy': 0.2798}\n",
      "FastEstimator-Warn: Pipeline multiprocessing is disabled. OS must support the 'fork' start method.\n",
      "FastEstimator-Test: step: None; epoch: 3; accuracy: 0.2698; ce: 2.4560103;\n",
      "FastEstimator-Search: Evaluated {'rotate': 220, 'search_idx': 23}, result: {'Shear Accuracy': 0.2698}\n",
      "FastEstimator-Warn: Pipeline multiprocessing is disabled. OS must support the 'fork' start method.\n",
      "FastEstimator-Test: step: None; epoch: 3; accuracy: 0.258; ce: 2.5296128;\n",
      "FastEstimator-Search: Evaluated {'rotate': 230, 'search_idx': 24}, result: {'Shear Accuracy': 0.258}\n",
      "FastEstimator-Warn: Pipeline multiprocessing is disabled. OS must support the 'fork' start method.\n",
      "FastEstimator-Test: step: None; epoch: 3; accuracy: 0.2562; ce: 2.569607;\n",
      "FastEstimator-Search: Evaluated {'rotate': 240, 'search_idx': 25}, result: {'Shear Accuracy': 0.2562}\n",
      "FastEstimator-Warn: Pipeline multiprocessing is disabled. OS must support the 'fork' start method.\n",
      "FastEstimator-Test: step: None; epoch: 3; accuracy: 0.255; ce: 2.5717359;\n",
      "FastEstimator-Search: Evaluated {'rotate': 250, 'search_idx': 26}, result: {'Shear Accuracy': 0.255}\n",
      "FastEstimator-Warn: Pipeline multiprocessing is disabled. OS must support the 'fork' start method.\n",
      "FastEstimator-Test: step: None; epoch: 3; accuracy: 0.255; ce: 2.5260024;\n",
      "FastEstimator-Search: Evaluated {'rotate': 260, 'search_idx': 27}, result: {'Shear Accuracy': 0.255}\n",
      "FastEstimator-Warn: Pipeline multiprocessing is disabled. OS must support the 'fork' start method.\n",
      "FastEstimator-Test: step: None; epoch: 3; accuracy: 0.286; ce: 2.396538;\n",
      "FastEstimator-Search: Evaluated {'rotate': 270, 'search_idx': 28}, result: {'Shear Accuracy': 0.286}\n",
      "FastEstimator-Warn: Pipeline multiprocessing is disabled. OS must support the 'fork' start method.\n",
      "FastEstimator-Test: step: None; epoch: 3; accuracy: 0.2842; ce: 2.324418;\n",
      "FastEstimator-Search: Evaluated {'rotate': 280, 'search_idx': 29}, result: {'Shear Accuracy': 0.2842}\n",
      "FastEstimator-Warn: Pipeline multiprocessing is disabled. OS must support the 'fork' start method.\n",
      "FastEstimator-Test: step: None; epoch: 3; accuracy: 0.3148; ce: 2.1568873;\n",
      "FastEstimator-Search: Evaluated {'rotate': 290, 'search_idx': 30}, result: {'Shear Accuracy': 0.3148}\n",
      "FastEstimator-Warn: Pipeline multiprocessing is disabled. OS must support the 'fork' start method.\n",
      "FastEstimator-Test: step: None; epoch: 3; accuracy: 0.3586; ce: 1.965706;\n",
      "FastEstimator-Search: Evaluated {'rotate': 300, 'search_idx': 31}, result: {'Shear Accuracy': 0.3586}\n",
      "FastEstimator-Warn: Pipeline multiprocessing is disabled. OS must support the 'fork' start method.\n",
      "FastEstimator-Test: step: None; epoch: 3; accuracy: 0.409; ce: 1.7419138;\n",
      "FastEstimator-Search: Evaluated {'rotate': 310, 'search_idx': 32}, result: {'Shear Accuracy': 0.409}\n",
      "FastEstimator-Warn: Pipeline multiprocessing is disabled. OS must support the 'fork' start method.\n",
      "FastEstimator-Test: step: None; epoch: 3; accuracy: 0.4766; ce: 1.4969428;\n",
      "FastEstimator-Search: Evaluated {'rotate': 320, 'search_idx': 33}, result: {'Shear Accuracy': 0.4766}\n",
      "FastEstimator-Warn: Pipeline multiprocessing is disabled. OS must support the 'fork' start method.\n",
      "FastEstimator-Test: step: None; epoch: 3; accuracy: 0.5286; ce: 1.3107244;\n",
      "FastEstimator-Search: Evaluated {'rotate': 330, 'search_idx': 34}, result: {'Shear Accuracy': 0.5286}\n",
      "FastEstimator-Warn: Pipeline multiprocessing is disabled. OS must support the 'fork' start method.\n",
      "FastEstimator-Test: step: None; epoch: 3; accuracy: 0.5694; ce: 1.1957237;\n",
      "FastEstimator-Search: Evaluated {'rotate': 340, 'search_idx': 35}, result: {'Shear Accuracy': 0.5694}\n",
      "FastEstimator-Warn: Pipeline multiprocessing is disabled. OS must support the 'fork' start method.\n",
      "FastEstimator-Test: step: None; epoch: 3; accuracy: 0.5872; ce: 1.1472993;\n",
      "FastEstimator-Search: Evaluated {'rotate': 350, 'search_idx': 36}, result: {'Shear Accuracy': 0.5872}\n"
     ]
    }
   ],
   "source": [
    "weight_path = os.path.join(save_dir, 'Shear_epoch_3.pt')\n",
    "\n",
    "rot = list(range(0, 360, 10))\n",
    "\n",
    "shear_grid_search = GridSearch(eval_fn=lambda search_idx, rotate: score_fn(search_idx, rotate, weight_path, save_dir, field_name=\"Shear Accuracy\"), params={\"rotate\": rot})\n",
    "\n",
    "shear_grid_search.fit()"
   ]
  },
  {
   "cell_type": "code",
   "execution_count": 11,
   "id": "08d6692b",
   "metadata": {},
   "outputs": [
    {
     "data": {
      "application/vnd.plotly.v1+json": {
       "config": {
        "displaylogo": false,
        "plotlyServerURL": "https://plot.ly",
        "toImageButtonOptions": {
         "filename": "figure",
         "format": "png",
         "height": null,
         "scale": 5,
         "width": null
        }
       },
       "data": [
        {
         "legendgroup": "Shear Accuracy",
         "line": {
          "color": "rgba(1,115,178,1.0)"
         },
         "marker": {
          "symbol": "circle"
         },
         "mode": "lines+markers",
         "name": "Shear Accuracy",
         "showlegend": true,
         "type": "scatter",
         "x": [
          0,
          10,
          20,
          30,
          40,
          50,
          60,
          70,
          80,
          90,
          100,
          110,
          120,
          130,
          140,
          150,
          160,
          170,
          180,
          190,
          200,
          210,
          220,
          230,
          240,
          250,
          260,
          270,
          280,
          290,
          300,
          310,
          320,
          330,
          340,
          350
         ],
         "xaxis": "x",
         "y": [
          0.5868,
          0.5896,
          0.5776,
          0.5344,
          0.4818,
          0.4222,
          0.3608,
          0.3154,
          0.2812,
          0.278,
          0.2546,
          0.252,
          0.2498,
          0.254,
          0.2596,
          0.272,
          0.2826,
          0.2826,
          0.2976,
          0.2856,
          0.2894,
          0.2798,
          0.2698,
          0.258,
          0.2562,
          0.255,
          0.255,
          0.286,
          0.2842,
          0.3148,
          0.3586,
          0.409,
          0.4766,
          0.5286,
          0.5694,
          0.5872
         ],
         "yaxis": "y"
        }
       ],
       "layout": {
        "height": 280,
        "hovermode": "closest",
        "legend": {
         "font": {
          "size": 11
         },
         "tracegroupgap": 5
        },
        "margin": {
         "t": 50
        },
        "modebar": {
         "add": [
          "hoverclosest",
          "hovercompare"
         ],
         "remove": [
          "select2d",
          "lasso2d"
         ]
        },
        "plot_bgcolor": "#FFF",
        "template": {
         "data": {
          "bar": [
           {
            "error_x": {
             "color": "#2a3f5f"
            },
            "error_y": {
             "color": "#2a3f5f"
            },
            "marker": {
             "line": {
              "color": "#E5ECF6",
              "width": 0.5
             },
             "pattern": {
              "fillmode": "overlay",
              "size": 10,
              "solidity": 0.2
             }
            },
            "type": "bar"
           }
          ],
          "barpolar": [
           {
            "marker": {
             "line": {
              "color": "#E5ECF6",
              "width": 0.5
             },
             "pattern": {
              "fillmode": "overlay",
              "size": 10,
              "solidity": 0.2
             }
            },
            "type": "barpolar"
           }
          ],
          "carpet": [
           {
            "aaxis": {
             "endlinecolor": "#2a3f5f",
             "gridcolor": "white",
             "linecolor": "white",
             "minorgridcolor": "white",
             "startlinecolor": "#2a3f5f"
            },
            "baxis": {
             "endlinecolor": "#2a3f5f",
             "gridcolor": "white",
             "linecolor": "white",
             "minorgridcolor": "white",
             "startlinecolor": "#2a3f5f"
            },
            "type": "carpet"
           }
          ],
          "choropleth": [
           {
            "colorbar": {
             "outlinewidth": 0,
             "ticks": ""
            },
            "type": "choropleth"
           }
          ],
          "contour": [
           {
            "colorbar": {
             "outlinewidth": 0,
             "ticks": ""
            },
            "colorscale": [
             [
              0,
              "#0d0887"
             ],
             [
              0.1111111111111111,
              "#46039f"
             ],
             [
              0.2222222222222222,
              "#7201a8"
             ],
             [
              0.3333333333333333,
              "#9c179e"
             ],
             [
              0.4444444444444444,
              "#bd3786"
             ],
             [
              0.5555555555555556,
              "#d8576b"
             ],
             [
              0.6666666666666666,
              "#ed7953"
             ],
             [
              0.7777777777777778,
              "#fb9f3a"
             ],
             [
              0.8888888888888888,
              "#fdca26"
             ],
             [
              1,
              "#f0f921"
             ]
            ],
            "type": "contour"
           }
          ],
          "contourcarpet": [
           {
            "colorbar": {
             "outlinewidth": 0,
             "ticks": ""
            },
            "type": "contourcarpet"
           }
          ],
          "heatmap": [
           {
            "colorbar": {
             "outlinewidth": 0,
             "ticks": ""
            },
            "colorscale": [
             [
              0,
              "#0d0887"
             ],
             [
              0.1111111111111111,
              "#46039f"
             ],
             [
              0.2222222222222222,
              "#7201a8"
             ],
             [
              0.3333333333333333,
              "#9c179e"
             ],
             [
              0.4444444444444444,
              "#bd3786"
             ],
             [
              0.5555555555555556,
              "#d8576b"
             ],
             [
              0.6666666666666666,
              "#ed7953"
             ],
             [
              0.7777777777777778,
              "#fb9f3a"
             ],
             [
              0.8888888888888888,
              "#fdca26"
             ],
             [
              1,
              "#f0f921"
             ]
            ],
            "type": "heatmap"
           }
          ],
          "heatmapgl": [
           {
            "colorbar": {
             "outlinewidth": 0,
             "ticks": ""
            },
            "colorscale": [
             [
              0,
              "#0d0887"
             ],
             [
              0.1111111111111111,
              "#46039f"
             ],
             [
              0.2222222222222222,
              "#7201a8"
             ],
             [
              0.3333333333333333,
              "#9c179e"
             ],
             [
              0.4444444444444444,
              "#bd3786"
             ],
             [
              0.5555555555555556,
              "#d8576b"
             ],
             [
              0.6666666666666666,
              "#ed7953"
             ],
             [
              0.7777777777777778,
              "#fb9f3a"
             ],
             [
              0.8888888888888888,
              "#fdca26"
             ],
             [
              1,
              "#f0f921"
             ]
            ],
            "type": "heatmapgl"
           }
          ],
          "histogram": [
           {
            "marker": {
             "pattern": {
              "fillmode": "overlay",
              "size": 10,
              "solidity": 0.2
             }
            },
            "type": "histogram"
           }
          ],
          "histogram2d": [
           {
            "colorbar": {
             "outlinewidth": 0,
             "ticks": ""
            },
            "colorscale": [
             [
              0,
              "#0d0887"
             ],
             [
              0.1111111111111111,
              "#46039f"
             ],
             [
              0.2222222222222222,
              "#7201a8"
             ],
             [
              0.3333333333333333,
              "#9c179e"
             ],
             [
              0.4444444444444444,
              "#bd3786"
             ],
             [
              0.5555555555555556,
              "#d8576b"
             ],
             [
              0.6666666666666666,
              "#ed7953"
             ],
             [
              0.7777777777777778,
              "#fb9f3a"
             ],
             [
              0.8888888888888888,
              "#fdca26"
             ],
             [
              1,
              "#f0f921"
             ]
            ],
            "type": "histogram2d"
           }
          ],
          "histogram2dcontour": [
           {
            "colorbar": {
             "outlinewidth": 0,
             "ticks": ""
            },
            "colorscale": [
             [
              0,
              "#0d0887"
             ],
             [
              0.1111111111111111,
              "#46039f"
             ],
             [
              0.2222222222222222,
              "#7201a8"
             ],
             [
              0.3333333333333333,
              "#9c179e"
             ],
             [
              0.4444444444444444,
              "#bd3786"
             ],
             [
              0.5555555555555556,
              "#d8576b"
             ],
             [
              0.6666666666666666,
              "#ed7953"
             ],
             [
              0.7777777777777778,
              "#fb9f3a"
             ],
             [
              0.8888888888888888,
              "#fdca26"
             ],
             [
              1,
              "#f0f921"
             ]
            ],
            "type": "histogram2dcontour"
           }
          ],
          "mesh3d": [
           {
            "colorbar": {
             "outlinewidth": 0,
             "ticks": ""
            },
            "type": "mesh3d"
           }
          ],
          "parcoords": [
           {
            "line": {
             "colorbar": {
              "outlinewidth": 0,
              "ticks": ""
             }
            },
            "type": "parcoords"
           }
          ],
          "pie": [
           {
            "automargin": true,
            "type": "pie"
           }
          ],
          "scatter": [
           {
            "fillpattern": {
             "fillmode": "overlay",
             "size": 10,
             "solidity": 0.2
            },
            "type": "scatter"
           }
          ],
          "scatter3d": [
           {
            "line": {
             "colorbar": {
              "outlinewidth": 0,
              "ticks": ""
             }
            },
            "marker": {
             "colorbar": {
              "outlinewidth": 0,
              "ticks": ""
             }
            },
            "type": "scatter3d"
           }
          ],
          "scattercarpet": [
           {
            "marker": {
             "colorbar": {
              "outlinewidth": 0,
              "ticks": ""
             }
            },
            "type": "scattercarpet"
           }
          ],
          "scattergeo": [
           {
            "marker": {
             "colorbar": {
              "outlinewidth": 0,
              "ticks": ""
             }
            },
            "type": "scattergeo"
           }
          ],
          "scattergl": [
           {
            "marker": {
             "colorbar": {
              "outlinewidth": 0,
              "ticks": ""
             }
            },
            "type": "scattergl"
           }
          ],
          "scattermapbox": [
           {
            "marker": {
             "colorbar": {
              "outlinewidth": 0,
              "ticks": ""
             }
            },
            "type": "scattermapbox"
           }
          ],
          "scatterpolar": [
           {
            "marker": {
             "colorbar": {
              "outlinewidth": 0,
              "ticks": ""
             }
            },
            "type": "scatterpolar"
           }
          ],
          "scatterpolargl": [
           {
            "marker": {
             "colorbar": {
              "outlinewidth": 0,
              "ticks": ""
             }
            },
            "type": "scatterpolargl"
           }
          ],
          "scatterternary": [
           {
            "marker": {
             "colorbar": {
              "outlinewidth": 0,
              "ticks": ""
             }
            },
            "type": "scatterternary"
           }
          ],
          "surface": [
           {
            "colorbar": {
             "outlinewidth": 0,
             "ticks": ""
            },
            "colorscale": [
             [
              0,
              "#0d0887"
             ],
             [
              0.1111111111111111,
              "#46039f"
             ],
             [
              0.2222222222222222,
              "#7201a8"
             ],
             [
              0.3333333333333333,
              "#9c179e"
             ],
             [
              0.4444444444444444,
              "#bd3786"
             ],
             [
              0.5555555555555556,
              "#d8576b"
             ],
             [
              0.6666666666666666,
              "#ed7953"
             ],
             [
              0.7777777777777778,
              "#fb9f3a"
             ],
             [
              0.8888888888888888,
              "#fdca26"
             ],
             [
              1,
              "#f0f921"
             ]
            ],
            "type": "surface"
           }
          ],
          "table": [
           {
            "cells": {
             "fill": {
              "color": "#EBF0F8"
             },
             "line": {
              "color": "white"
             }
            },
            "header": {
             "fill": {
              "color": "#C8D4E3"
             },
             "line": {
              "color": "white"
             }
            },
            "type": "table"
           }
          ]
         },
         "layout": {
          "annotationdefaults": {
           "arrowcolor": "#2a3f5f",
           "arrowhead": 0,
           "arrowwidth": 1
          },
          "autotypenumbers": "strict",
          "coloraxis": {
           "colorbar": {
            "outlinewidth": 0,
            "ticks": ""
           }
          },
          "colorscale": {
           "diverging": [
            [
             0,
             "#8e0152"
            ],
            [
             0.1,
             "#c51b7d"
            ],
            [
             0.2,
             "#de77ae"
            ],
            [
             0.3,
             "#f1b6da"
            ],
            [
             0.4,
             "#fde0ef"
            ],
            [
             0.5,
             "#f7f7f7"
            ],
            [
             0.6,
             "#e6f5d0"
            ],
            [
             0.7,
             "#b8e186"
            ],
            [
             0.8,
             "#7fbc41"
            ],
            [
             0.9,
             "#4d9221"
            ],
            [
             1,
             "#276419"
            ]
           ],
           "sequential": [
            [
             0,
             "#0d0887"
            ],
            [
             0.1111111111111111,
             "#46039f"
            ],
            [
             0.2222222222222222,
             "#7201a8"
            ],
            [
             0.3333333333333333,
             "#9c179e"
            ],
            [
             0.4444444444444444,
             "#bd3786"
            ],
            [
             0.5555555555555556,
             "#d8576b"
            ],
            [
             0.6666666666666666,
             "#ed7953"
            ],
            [
             0.7777777777777778,
             "#fb9f3a"
            ],
            [
             0.8888888888888888,
             "#fdca26"
            ],
            [
             1,
             "#f0f921"
            ]
           ],
           "sequentialminus": [
            [
             0,
             "#0d0887"
            ],
            [
             0.1111111111111111,
             "#46039f"
            ],
            [
             0.2222222222222222,
             "#7201a8"
            ],
            [
             0.3333333333333333,
             "#9c179e"
            ],
            [
             0.4444444444444444,
             "#bd3786"
            ],
            [
             0.5555555555555556,
             "#d8576b"
            ],
            [
             0.6666666666666666,
             "#ed7953"
            ],
            [
             0.7777777777777778,
             "#fb9f3a"
            ],
            [
             0.8888888888888888,
             "#fdca26"
            ],
            [
             1,
             "#f0f921"
            ]
           ]
          },
          "colorway": [
           "#636efa",
           "#EF553B",
           "#00cc96",
           "#ab63fa",
           "#FFA15A",
           "#19d3f3",
           "#FF6692",
           "#B6E880",
           "#FF97FF",
           "#FECB52"
          ],
          "font": {
           "color": "#2a3f5f"
          },
          "geo": {
           "bgcolor": "white",
           "lakecolor": "white",
           "landcolor": "#E5ECF6",
           "showlakes": true,
           "showland": true,
           "subunitcolor": "white"
          },
          "hoverlabel": {
           "align": "left"
          },
          "hovermode": "closest",
          "mapbox": {
           "style": "light"
          },
          "paper_bgcolor": "white",
          "plot_bgcolor": "#E5ECF6",
          "polar": {
           "angularaxis": {
            "gridcolor": "white",
            "linecolor": "white",
            "ticks": ""
           },
           "bgcolor": "#E5ECF6",
           "radialaxis": {
            "gridcolor": "white",
            "linecolor": "white",
            "ticks": ""
           }
          },
          "scene": {
           "xaxis": {
            "backgroundcolor": "#E5ECF6",
            "gridcolor": "white",
            "gridwidth": 2,
            "linecolor": "white",
            "showbackground": true,
            "ticks": "",
            "zerolinecolor": "white"
           },
           "yaxis": {
            "backgroundcolor": "#E5ECF6",
            "gridcolor": "white",
            "gridwidth": 2,
            "linecolor": "white",
            "showbackground": true,
            "ticks": "",
            "zerolinecolor": "white"
           },
           "zaxis": {
            "backgroundcolor": "#E5ECF6",
            "gridcolor": "white",
            "gridwidth": 2,
            "linecolor": "white",
            "showbackground": true,
            "ticks": "",
            "zerolinecolor": "white"
           }
          },
          "shapedefaults": {
           "line": {
            "color": "#2a3f5f"
           }
          },
          "ternary": {
           "aaxis": {
            "gridcolor": "white",
            "linecolor": "white",
            "ticks": ""
           },
           "baxis": {
            "gridcolor": "white",
            "linecolor": "white",
            "ticks": ""
           },
           "bgcolor": "#E5ECF6",
           "caxis": {
            "gridcolor": "white",
            "linecolor": "white",
            "ticks": ""
           }
          },
          "title": {
           "x": 0.05
          },
          "xaxis": {
           "automargin": true,
           "gridcolor": "white",
           "linecolor": "white",
           "ticks": "",
           "title": {
            "standoff": 15
           },
           "zerolinecolor": "white",
           "zerolinewidth": 2
          },
          "yaxis": {
           "automargin": true,
           "gridcolor": "white",
           "linecolor": "white",
           "ticks": "",
           "title": {
            "standoff": 15
           },
           "zerolinecolor": "white",
           "zerolinewidth": 2
          }
         }
        },
        "title": {
         "text": "Model Robustness With Shear",
         "x": 0.5
        },
        "xaxis": {
         "anchor": "y",
         "domain": [
          0,
          1
         ],
         "linecolor": "#BCCCDC",
         "showticklabels": true,
         "title": {
          "text": "rotate"
         }
        },
        "yaxis": {
         "anchor": "x",
         "domain": [
          0,
          1
         ],
         "linecolor": "#BCCCDC",
         "title": {
          "text": "Shear Accuracy"
         }
        }
       }
      }
     },
     "metadata": {},
     "output_type": "display_data"
    }
   ],
   "source": [
    "visualize_search(search=shear_grid_search, title=\"Model Robustness With Shear\")"
   ]
  },
  {
   "cell_type": "markdown",
   "id": "4c2b5053",
   "metadata": {},
   "source": [
    "<a id='ta16rotation'></a>\n",
    "### The effect of applying rotation augmentation\n",
    "\n",
    "To test this out let's train the model while randomly rotating images in range[-90, 90]. First, let's visalize how the rotation operation looks."
   ]
  },
  {
   "cell_type": "code",
   "execution_count": 12,
   "id": "c84974f8",
   "metadata": {},
   "outputs": [
    {
     "name": "stdout",
     "output_type": "stream",
     "text": [
      "FastEstimator-Warn: Pipeline multiprocessing is disabled. OS must support the 'fork' start method.\n"
     ]
    }
   ],
   "source": [
    "est,rotate_pipe = get_estimator(save_dir, weight_path=None, model_name='Rotation', train_rotate=90, epochs=3, visualize=True)"
   ]
  },
  {
   "cell_type": "code",
   "execution_count": null,
   "id": "3c108644",
   "metadata": {},
   "outputs": [
    {
     "data": {
      "image/png": "[encoded data removed]",
      "text/plain": [
       "<IPython.core.display.Image object>"
      ]
     },
     "metadata": {},
     "output_type": "display_data"
    }
   ],
   "source": [
    "rotate_results = rotate_pipe.get_results()\n",
    "no_aug_results = no_aug_pipe.get_results()\n",
    "\n",
    "sample_num = 3\n",
    "\n",
    "fig = GridDisplay([\n",
    "    BatchDisplay(image=no_aug_results['x'][0:sample_num], title=\"Pipeline Input\"),\n",
    "    BatchDisplay(image=rotate_results['x'][0:sample_num], title=\"Pipeline Output\")\n",
    "])\n",
    "fig.show()\n"
   ]
  },
  {
   "cell_type": "code",
   "execution_count": 13,
   "id": "881f509a",
   "metadata": {},
   "outputs": [
    {
     "name": "stdout",
     "output_type": "stream",
     "text": [
      "    ______           __  ______     __  _                 __            \n",
      "   / ____/___ ______/ /_/ ____/____/ /_(_)___ ___  ____ _/ /_____  _____\n",
      "  / /_  / __ `/ ___/ __/ __/ / ___/ __/ / __ `__ \\/ __ `/ __/ __ \\/ ___/\n",
      " / __/ / /_/ (__  ) /_/ /___(__  ) /_/ / / / / / / /_/ / /_/ /_/ / /    \n",
      "/_/    \\__,_/____/\\__/_____/____/\\__/_/_/ /_/ /_/\\__,_/\\__/\\____/_/     \n",
      "                                                                        \n",
      "\n",
      "FastEstimator-Start: step: 1; logging_interval: 100; num_device: 1;\n",
      "FastEstimator-Train: step: 1; ce: 2.3045702;\n",
      "FastEstimator-Train: step: 100; ce: 2.095564; steps/sec: 27.38;\n",
      "FastEstimator-Train: step: 200; ce: 1.939709; steps/sec: 23.41;\n",
      "FastEstimator-Train: step: 300; ce: 2.0294816; steps/sec: 22.91;\n",
      "FastEstimator-Train: step: 400; ce: 1.9908059; steps/sec: 28.18;\n",
      "FastEstimator-Train: step: 500; ce: 1.6164654; steps/sec: 30.38;\n",
      "FastEstimator-Train: step: 600; ce: 1.7250518; steps/sec: 29.14;\n",
      "FastEstimator-Train: step: 700; ce: 1.8487082; steps/sec: 22.1;\n",
      "FastEstimator-Train: step: 800; ce: 1.6766448; steps/sec: 27.68;\n",
      "FastEstimator-Train: step: 900; ce: 1.6345263; steps/sec: 25.18;\n",
      "FastEstimator-Train: step: 1000; ce: 1.6392095; steps/sec: 20.82;\n",
      "FastEstimator-Train: step: 1100; ce: 1.5485554; steps/sec: 22.69;\n",
      "FastEstimator-Train: step: 1200; ce: 1.6803466; steps/sec: 25.1;\n",
      "FastEstimator-Train: step: 1300; ce: 1.4860914; steps/sec: 24.92;\n",
      "FastEstimator-Train: step: 1400; ce: 1.653162; steps/sec: 21.23;\n",
      "FastEstimator-Train: step: 1500; ce: 1.4372536; steps/sec: 25.71;\n",
      "FastEstimator-Train: step: 1563; epoch: 1; epoch_time: 63.55 sec;\n",
      "Eval Progress: 1/156;\n",
      "Eval Progress: 52/156; steps/sec: 120.19;\n",
      "Eval Progress: 104/156; steps/sec: 253.65;\n",
      "Eval Progress: 156/156; steps/sec: 268.19;\n",
      "FastEstimator-Eval: step: 1563; epoch: 1; accuracy: 0.4614; ce: 1.4945391;\n",
      "FastEstimator-Train: step: 1600; ce: 1.3693376; steps/sec: 23.94;\n",
      "FastEstimator-Train: step: 1700; ce: 1.953092; steps/sec: 21.43;\n",
      "FastEstimator-Train: step: 1800; ce: 1.8926265; steps/sec: 24.65;\n",
      "FastEstimator-Train: step: 1900; ce: 1.3260846; steps/sec: 27.93;\n",
      "FastEstimator-Train: step: 2000; ce: 1.6707518; steps/sec: 29.49;\n",
      "FastEstimator-Train: step: 2100; ce: 1.3963616; steps/sec: 29.64;\n",
      "FastEstimator-Train: step: 2200; ce: 1.5783968; steps/sec: 28.07;\n",
      "FastEstimator-Train: step: 2300; ce: 1.4419827; steps/sec: 31.04;\n",
      "FastEstimator-Train: step: 2400; ce: 1.7044448; steps/sec: 32.16;\n",
      "FastEstimator-Train: step: 2500; ce: 1.1078348; steps/sec: 28.02;\n",
      "FastEstimator-Train: step: 2600; ce: 1.3483241; steps/sec: 26.98;\n",
      "FastEstimator-Train: step: 2700; ce: 1.5554254; steps/sec: 26.64;\n",
      "FastEstimator-Train: step: 2800; ce: 1.258369; steps/sec: 23.64;\n",
      "FastEstimator-Train: step: 2900; ce: 1.5813732; steps/sec: 26.02;\n",
      "FastEstimator-Train: step: 3000; ce: 1.293011; steps/sec: 24.07;\n",
      "FastEstimator-Train: step: 3100; ce: 1.3780148; steps/sec: 23.79;\n",
      "FastEstimator-Train: step: 3126; epoch: 2; epoch_time: 58.93 sec;\n",
      "Eval Progress: 1/156;\n",
      "Eval Progress: 52/156; steps/sec: 123.18;\n",
      "Eval Progress: 104/156; steps/sec: 275.83;\n",
      "Eval Progress: 156/156; steps/sec: 275.56;\n",
      "FastEstimator-Eval: step: 3126; epoch: 2; accuracy: 0.4938; ce: 1.4237279;\n",
      "FastEstimator-Train: step: 3200; ce: 1.111445; steps/sec: 26.43;\n",
      "FastEstimator-Train: step: 3300; ce: 1.3234532; steps/sec: 22.5;\n",
      "FastEstimator-Train: step: 3400; ce: 1.4189422; steps/sec: 25.56;\n",
      "FastEstimator-Train: step: 3500; ce: 1.6055048; steps/sec: 25.54;\n",
      "FastEstimator-Train: step: 3600; ce: 1.2981964; steps/sec: 25.08;\n",
      "FastEstimator-Train: step: 3700; ce: 1.1322455; steps/sec: 24.9;\n",
      "FastEstimator-Train: step: 3800; ce: 1.2697169; steps/sec: 26.09;\n",
      "FastEstimator-Train: step: 3900; ce: 1.7858722; steps/sec: 25.07;\n",
      "FastEstimator-Train: step: 4000; ce: 1.1805391; steps/sec: 24.18;\n",
      "FastEstimator-Train: step: 4100; ce: 1.3962307; steps/sec: 23.51;\n",
      "FastEstimator-Train: step: 4200; ce: 1.6179466; steps/sec: 21.93;\n",
      "FastEstimator-Train: step: 4300; ce: 1.475305; steps/sec: 25.59;\n",
      "FastEstimator-Train: step: 4400; ce: 1.4879193; steps/sec: 24.79;\n",
      "FastEstimator-Train: step: 4500; ce: 1.1434604; steps/sec: 26.52;\n",
      "FastEstimator-Train: step: 4600; ce: 1.2070047; steps/sec: 24.05;\n",
      "FastEstimator-ModelSaver: Saved model to C:\\Users\\223043~1\\AppData\\Local\\Temp\\tmp5hdbure3\\Rotation_epoch_3.pt\n",
      "FastEstimator-Train: step: 4689; epoch: 3; epoch_time: 63.14 sec;\n",
      "Eval Progress: 1/156;\n",
      "Eval Progress: 52/156; steps/sec: 213.15;\n",
      "Eval Progress: 104/156; steps/sec: 337.98;\n",
      "Eval Progress: 156/156; steps/sec: 341.09;\n",
      "FastEstimator-Eval: step: 4689; epoch: 3; accuracy: 0.5192; ce: 1.3506348;\n",
      "FastEstimator-Finish: step: 4689; Rotation_lr: 0.001; total_time: 188.38 sec;\n"
     ]
    }
   ],
   "source": [
    "est.fit()"
   ]
  },
  {
   "cell_type": "markdown",
   "id": "1e564886",
   "metadata": {},
   "source": [
    "Let us use Grid Search again to test the performance of the model while the input images are rotated in range 0 to 360 degrees(at an interval of 10)"
   ]
  },
  {
   "cell_type": "code",
   "execution_count": 14,
   "id": "245b08e6",
   "metadata": {},
   "outputs": [
    {
     "name": "stdout",
     "output_type": "stream",
     "text": [
      "FastEstimator-Warn: Pipeline multiprocessing is disabled. OS must support the 'fork' start method.\n",
      "FastEstimator-Test: step: None; epoch: 3; accuracy: 0.5154; ce: 1.3517281;\n",
      "FastEstimator-Search: Evaluated {'rotate': 0, 'search_idx': 1}, result: {'Rotation Accuracy': 0.5154}\n",
      "FastEstimator-Warn: Pipeline multiprocessing is disabled. OS must support the 'fork' start method.\n",
      "FastEstimator-Test: step: None; epoch: 3; accuracy: 0.5284; ce: 1.2975515;\n",
      "FastEstimator-Search: Evaluated {'rotate': 10, 'search_idx': 2}, result: {'Rotation Accuracy': 0.5284}\n",
      "FastEstimator-Warn: Pipeline multiprocessing is disabled. OS must support the 'fork' start method.\n",
      "FastEstimator-Test: step: None; epoch: 3; accuracy: 0.526; ce: 1.2994927;\n",
      "FastEstimator-Search: Evaluated {'rotate': 20, 'search_idx': 3}, result: {'Rotation Accuracy': 0.526}\n",
      "FastEstimator-Warn: Pipeline multiprocessing is disabled. OS must support the 'fork' start method.\n",
      "FastEstimator-Test: step: None; epoch: 3; accuracy: 0.5262; ce: 1.3059227;\n",
      "FastEstimator-Search: Evaluated {'rotate': 30, 'search_idx': 4}, result: {'Rotation Accuracy': 0.5262}\n",
      "FastEstimator-Warn: Pipeline multiprocessing is disabled. OS must support the 'fork' start method.\n",
      "FastEstimator-Test: step: None; epoch: 3; accuracy: 0.5258; ce: 1.3212047;\n",
      "FastEstimator-Search: Evaluated {'rotate': 40, 'search_idx': 5}, result: {'Rotation Accuracy': 0.5258}\n",
      "FastEstimator-Warn: Pipeline multiprocessing is disabled. OS must support the 'fork' start method.\n",
      "FastEstimator-Test: step: None; epoch: 3; accuracy: 0.5218; ce: 1.3434337;\n",
      "FastEstimator-Search: Evaluated {'rotate': 50, 'search_idx': 6}, result: {'Rotation Accuracy': 0.5218}\n",
      "FastEstimator-Warn: Pipeline multiprocessing is disabled. OS must support the 'fork' start method.\n",
      "FastEstimator-Test: step: None; epoch: 3; accuracy: 0.5156; ce: 1.3742883;\n",
      "FastEstimator-Search: Evaluated {'rotate': 60, 'search_idx': 7}, result: {'Rotation Accuracy': 0.5156}\n",
      "FastEstimator-Warn: Pipeline multiprocessing is disabled. OS must support the 'fork' start method.\n",
      "FastEstimator-Test: step: None; epoch: 3; accuracy: 0.4928; ce: 1.420555;\n",
      "FastEstimator-Search: Evaluated {'rotate': 70, 'search_idx': 8}, result: {'Rotation Accuracy': 0.4928}\n",
      "FastEstimator-Warn: Pipeline multiprocessing is disabled. OS must support the 'fork' start method.\n",
      "FastEstimator-Test: step: None; epoch: 3; accuracy: 0.475; ce: 1.4756038;\n",
      "FastEstimator-Search: Evaluated {'rotate': 80, 'search_idx': 9}, result: {'Rotation Accuracy': 0.475}\n",
      "FastEstimator-Warn: Pipeline multiprocessing is disabled. OS must support the 'fork' start method.\n",
      "FastEstimator-Test: step: None; epoch: 3; accuracy: 0.4364; ce: 1.5649862;\n",
      "FastEstimator-Search: Evaluated {'rotate': 90, 'search_idx': 10}, result: {'Rotation Accuracy': 0.4364}\n",
      "FastEstimator-Warn: Pipeline multiprocessing is disabled. OS must support the 'fork' start method.\n",
      "FastEstimator-Test: step: None; epoch: 3; accuracy: 0.4104; ce: 1.6372994;\n",
      "FastEstimator-Search: Evaluated {'rotate': 100, 'search_idx': 11}, result: {'Rotation Accuracy': 0.4104}\n",
      "FastEstimator-Warn: Pipeline multiprocessing is disabled. OS must support the 'fork' start method.\n",
      "FastEstimator-Test: step: None; epoch: 3; accuracy: 0.3782; ce: 1.7210802;\n",
      "FastEstimator-Search: Evaluated {'rotate': 110, 'search_idx': 12}, result: {'Rotation Accuracy': 0.3782}\n",
      "FastEstimator-Warn: Pipeline multiprocessing is disabled. OS must support the 'fork' start method.\n",
      "FastEstimator-Test: step: None; epoch: 3; accuracy: 0.3526; ce: 1.8018907;\n",
      "FastEstimator-Search: Evaluated {'rotate': 120, 'search_idx': 13}, result: {'Rotation Accuracy': 0.3526}\n",
      "FastEstimator-Warn: Pipeline multiprocessing is disabled. OS must support the 'fork' start method.\n",
      "FastEstimator-Test: step: None; epoch: 3; accuracy: 0.3362; ce: 1.8565934;\n",
      "FastEstimator-Search: Evaluated {'rotate': 130, 'search_idx': 14}, result: {'Rotation Accuracy': 0.3362}\n",
      "FastEstimator-Warn: Pipeline multiprocessing is disabled. OS must support the 'fork' start method.\n",
      "FastEstimator-Test: step: None; epoch: 3; accuracy: 0.3178; ce: 1.9158399;\n",
      "FastEstimator-Search: Evaluated {'rotate': 140, 'search_idx': 15}, result: {'Rotation Accuracy': 0.3178}\n",
      "FastEstimator-Warn: Pipeline multiprocessing is disabled. OS must support the 'fork' start method.\n",
      "FastEstimator-Test: step: None; epoch: 3; accuracy: 0.3096; ce: 1.9625716;\n",
      "FastEstimator-Search: Evaluated {'rotate': 150, 'search_idx': 16}, result: {'Rotation Accuracy': 0.3096}\n",
      "FastEstimator-Warn: Pipeline multiprocessing is disabled. OS must support the 'fork' start method.\n",
      "FastEstimator-Test: step: None; epoch: 3; accuracy: 0.3038; ce: 1.9962913;\n",
      "FastEstimator-Search: Evaluated {'rotate': 160, 'search_idx': 17}, result: {'Rotation Accuracy': 0.3038}\n",
      "FastEstimator-Warn: Pipeline multiprocessing is disabled. OS must support the 'fork' start method.\n",
      "FastEstimator-Test: step: None; epoch: 3; accuracy: 0.2942; ce: 2.0247893;\n",
      "FastEstimator-Search: Evaluated {'rotate': 170, 'search_idx': 18}, result: {'Rotation Accuracy': 0.2942}\n",
      "FastEstimator-Warn: Pipeline multiprocessing is disabled. OS must support the 'fork' start method.\n",
      "FastEstimator-Test: step: None; epoch: 3; accuracy: 0.317; ce: 1.9735099;\n",
      "FastEstimator-Search: Evaluated {'rotate': 180, 'search_idx': 19}, result: {'Rotation Accuracy': 0.317}\n",
      "FastEstimator-Warn: Pipeline multiprocessing is disabled. OS must support the 'fork' start method.\n",
      "FastEstimator-Test: step: None; epoch: 3; accuracy: 0.3072; ce: 1.9961544;\n",
      "FastEstimator-Search: Evaluated {'rotate': 190, 'search_idx': 20}, result: {'Rotation Accuracy': 0.3072}\n",
      "FastEstimator-Warn: Pipeline multiprocessing is disabled. OS must support the 'fork' start method.\n",
      "FastEstimator-Test: step: None; epoch: 3; accuracy: 0.3136; ce: 1.9547683;\n",
      "FastEstimator-Search: Evaluated {'rotate': 200, 'search_idx': 21}, result: {'Rotation Accuracy': 0.3136}\n",
      "FastEstimator-Warn: Pipeline multiprocessing is disabled. OS must support the 'fork' start method.\n",
      "FastEstimator-Test: step: None; epoch: 3; accuracy: 0.321; ce: 1.9106317;\n",
      "FastEstimator-Search: Evaluated {'rotate': 210, 'search_idx': 22}, result: {'Rotation Accuracy': 0.321}\n",
      "FastEstimator-Warn: Pipeline multiprocessing is disabled. OS must support the 'fork' start method.\n",
      "FastEstimator-Test: step: None; epoch: 3; accuracy: 0.3292; ce: 1.8649011;\n",
      "FastEstimator-Search: Evaluated {'rotate': 220, 'search_idx': 23}, result: {'Rotation Accuracy': 0.3292}\n",
      "FastEstimator-Warn: Pipeline multiprocessing is disabled. OS must support the 'fork' start method.\n",
      "FastEstimator-Test: step: None; epoch: 3; accuracy: 0.3476; ce: 1.8086187;\n",
      "FastEstimator-Search: Evaluated {'rotate': 230, 'search_idx': 24}, result: {'Rotation Accuracy': 0.3476}\n",
      "FastEstimator-Warn: Pipeline multiprocessing is disabled. OS must support the 'fork' start method.\n",
      "FastEstimator-Test: step: None; epoch: 3; accuracy: 0.3672; ce: 1.7435293;\n",
      "FastEstimator-Search: Evaluated {'rotate': 240, 'search_idx': 25}, result: {'Rotation Accuracy': 0.3672}\n",
      "FastEstimator-Warn: Pipeline multiprocessing is disabled. OS must support the 'fork' start method.\n",
      "FastEstimator-Test: step: None; epoch: 3; accuracy: 0.3888; ce: 1.6567173;\n",
      "FastEstimator-Search: Evaluated {'rotate': 250, 'search_idx': 26}, result: {'Rotation Accuracy': 0.3888}\n",
      "FastEstimator-Warn: Pipeline multiprocessing is disabled. OS must support the 'fork' start method.\n",
      "FastEstimator-Test: step: None; epoch: 3; accuracy: 0.4246; ce: 1.5771592;\n",
      "FastEstimator-Search: Evaluated {'rotate': 260, 'search_idx': 27}, result: {'Rotation Accuracy': 0.4246}\n",
      "FastEstimator-Warn: Pipeline multiprocessing is disabled. OS must support the 'fork' start method.\n",
      "FastEstimator-Test: step: None; epoch: 3; accuracy: 0.4508; ce: 1.5287434;\n",
      "FastEstimator-Search: Evaluated {'rotate': 270, 'search_idx': 28}, result: {'Rotation Accuracy': 0.4508}\n",
      "FastEstimator-Warn: Pipeline multiprocessing is disabled. OS must support the 'fork' start method.\n",
      "FastEstimator-Test: step: None; epoch: 3; accuracy: 0.4724; ce: 1.4538559;\n",
      "FastEstimator-Search: Evaluated {'rotate': 280, 'search_idx': 29}, result: {'Rotation Accuracy': 0.4724}\n",
      "FastEstimator-Warn: Pipeline multiprocessing is disabled. OS must support the 'fork' start method.\n",
      "FastEstimator-Test: step: None; epoch: 3; accuracy: 0.4962; ce: 1.4084185;\n",
      "FastEstimator-Search: Evaluated {'rotate': 290, 'search_idx': 30}, result: {'Rotation Accuracy': 0.4962}\n",
      "FastEstimator-Warn: Pipeline multiprocessing is disabled. OS must support the 'fork' start method.\n",
      "FastEstimator-Test: step: None; epoch: 3; accuracy: 0.5068; ce: 1.3779414;\n",
      "FastEstimator-Search: Evaluated {'rotate': 300, 'search_idx': 31}, result: {'Rotation Accuracy': 0.5068}\n",
      "FastEstimator-Warn: Pipeline multiprocessing is disabled. OS must support the 'fork' start method.\n",
      "FastEstimator-Test: step: None; epoch: 3; accuracy: 0.512; ce: 1.3510212;\n",
      "FastEstimator-Search: Evaluated {'rotate': 310, 'search_idx': 32}, result: {'Rotation Accuracy': 0.512}\n",
      "FastEstimator-Warn: Pipeline multiprocessing is disabled. OS must support the 'fork' start method.\n",
      "FastEstimator-Test: step: None; epoch: 3; accuracy: 0.5204; ce: 1.3321034;\n",
      "FastEstimator-Search: Evaluated {'rotate': 320, 'search_idx': 33}, result: {'Rotation Accuracy': 0.5204}\n",
      "FastEstimator-Warn: Pipeline multiprocessing is disabled. OS must support the 'fork' start method.\n",
      "FastEstimator-Test: step: None; epoch: 3; accuracy: 0.523; ce: 1.3225498;\n",
      "FastEstimator-Search: Evaluated {'rotate': 330, 'search_idx': 34}, result: {'Rotation Accuracy': 0.523}\n",
      "FastEstimator-Warn: Pipeline multiprocessing is disabled. OS must support the 'fork' start method.\n",
      "FastEstimator-Test: step: None; epoch: 3; accuracy: 0.5278; ce: 1.3179867;\n",
      "FastEstimator-Search: Evaluated {'rotate': 340, 'search_idx': 35}, result: {'Rotation Accuracy': 0.5278}\n",
      "FastEstimator-Warn: Pipeline multiprocessing is disabled. OS must support the 'fork' start method.\n",
      "FastEstimator-Test: step: None; epoch: 3; accuracy: 0.5318; ce: 1.3126497;\n",
      "FastEstimator-Search: Evaluated {'rotate': 350, 'search_idx': 36}, result: {'Rotation Accuracy': 0.5318}\n"
     ]
    }
   ],
   "source": [
    "weight_path = os.path.join(save_dir, 'Rotation_epoch_3.pt')\n",
    "\n",
    "rot = list(range(0, 360, 10))\n",
    "\n",
    "rotation_grid_search = GridSearch(eval_fn=lambda search_idx, rotate: score_fn(search_idx, rotate, weight_path, save_dir, field_name=\"Rotation Accuracy\"), params={\"rotate\": rot})\n",
    "\n",
    "rotation_grid_search.fit()"
   ]
  },
  {
   "cell_type": "code",
   "execution_count": 15,
   "id": "74db86d4",
   "metadata": {},
   "outputs": [
    {
     "data": {
      "application/vnd.plotly.v1+json": {
       "config": {
        "displaylogo": false,
        "plotlyServerURL": "https://plot.ly",
        "toImageButtonOptions": {
         "filename": "figure",
         "format": "png",
         "height": null,
         "scale": 5,
         "width": null
        }
       },
       "data": [
        {
         "legendgroup": "Rotation Accuracy",
         "line": {
          "color": "rgba(1,115,178,1.0)"
         },
         "marker": {
          "symbol": "circle"
         },
         "mode": "lines+markers",
         "name": "Rotation Accuracy",
         "showlegend": true,
         "type": "scatter",
         "x": [
          0,
          10,
          20,
          30,
          40,
          50,
          60,
          70,
          80,
          90,
          100,
          110,
          120,
          130,
          140,
          150,
          160,
          170,
          180,
          190,
          200,
          210,
          220,
          230,
          240,
          250,
          260,
          270,
          280,
          290,
          300,
          310,
          320,
          330,
          340,
          350
         ],
         "xaxis": "x",
         "y": [
          0.5154,
          0.5284,
          0.526,
          0.5262,
          0.5258,
          0.5218,
          0.5156,
          0.4928,
          0.475,
          0.4364,
          0.4104,
          0.3782,
          0.3526,
          0.3362,
          0.3178,
          0.3096,
          0.3038,
          0.2942,
          0.317,
          0.3072,
          0.3136,
          0.321,
          0.3292,
          0.3476,
          0.3672,
          0.3888,
          0.4246,
          0.4508,
          0.4724,
          0.4962,
          0.5068,
          0.512,
          0.5204,
          0.523,
          0.5278,
          0.5318
         ],
         "yaxis": "y"
        }
       ],
       "layout": {
        "height": 280,
        "hovermode": "closest",
        "legend": {
         "font": {
          "size": 11
         },
         "tracegroupgap": 5
        },
        "margin": {
         "t": 50
        },
        "modebar": {
         "add": [
          "hoverclosest",
          "hovercompare"
         ],
         "remove": [
          "select2d",
          "lasso2d"
         ]
        },
        "plot_bgcolor": "#FFF",
        "template": {
         "data": {
          "bar": [
           {
            "error_x": {
             "color": "#2a3f5f"
            },
            "error_y": {
             "color": "#2a3f5f"
            },
            "marker": {
             "line": {
              "color": "#E5ECF6",
              "width": 0.5
             },
             "pattern": {
              "fillmode": "overlay",
              "size": 10,
              "solidity": 0.2
             }
            },
            "type": "bar"
           }
          ],
          "barpolar": [
           {
            "marker": {
             "line": {
              "color": "#E5ECF6",
              "width": 0.5
             },
             "pattern": {
              "fillmode": "overlay",
              "size": 10,
              "solidity": 0.2
             }
            },
            "type": "barpolar"
           }
          ],
          "carpet": [
           {
            "aaxis": {
             "endlinecolor": "#2a3f5f",
             "gridcolor": "white",
             "linecolor": "white",
             "minorgridcolor": "white",
             "startlinecolor": "#2a3f5f"
            },
            "baxis": {
             "endlinecolor": "#2a3f5f",
             "gridcolor": "white",
             "linecolor": "white",
             "minorgridcolor": "white",
             "startlinecolor": "#2a3f5f"
            },
            "type": "carpet"
           }
          ],
          "choropleth": [
           {
            "colorbar": {
             "outlinewidth": 0,
             "ticks": ""
            },
            "type": "choropleth"
           }
          ],
          "contour": [
           {
            "colorbar": {
             "outlinewidth": 0,
             "ticks": ""
            },
            "colorscale": [
             [
              0,
              "#0d0887"
             ],
             [
              0.1111111111111111,
              "#46039f"
             ],
             [
              0.2222222222222222,
              "#7201a8"
             ],
             [
              0.3333333333333333,
              "#9c179e"
             ],
             [
              0.4444444444444444,
              "#bd3786"
             ],
             [
              0.5555555555555556,
              "#d8576b"
             ],
             [
              0.6666666666666666,
              "#ed7953"
             ],
             [
              0.7777777777777778,
              "#fb9f3a"
             ],
             [
              0.8888888888888888,
              "#fdca26"
             ],
             [
              1,
              "#f0f921"
             ]
            ],
            "type": "contour"
           }
          ],
          "contourcarpet": [
           {
            "colorbar": {
             "outlinewidth": 0,
             "ticks": ""
            },
            "type": "contourcarpet"
           }
          ],
          "heatmap": [
           {
            "colorbar": {
             "outlinewidth": 0,
             "ticks": ""
            },
            "colorscale": [
             [
              0,
              "#0d0887"
             ],
             [
              0.1111111111111111,
              "#46039f"
             ],
             [
              0.2222222222222222,
              "#7201a8"
             ],
             [
              0.3333333333333333,
              "#9c179e"
             ],
             [
              0.4444444444444444,
              "#bd3786"
             ],
             [
              0.5555555555555556,
              "#d8576b"
             ],
             [
              0.6666666666666666,
              "#ed7953"
             ],
             [
              0.7777777777777778,
              "#fb9f3a"
             ],
             [
              0.8888888888888888,
              "#fdca26"
             ],
             [
              1,
              "#f0f921"
             ]
            ],
            "type": "heatmap"
           }
          ],
          "heatmapgl": [
           {
            "colorbar": {
             "outlinewidth": 0,
             "ticks": ""
            },
            "colorscale": [
             [
              0,
              "#0d0887"
             ],
             [
              0.1111111111111111,
              "#46039f"
             ],
             [
              0.2222222222222222,
              "#7201a8"
             ],
             [
              0.3333333333333333,
              "#9c179e"
             ],
             [
              0.4444444444444444,
              "#bd3786"
             ],
             [
              0.5555555555555556,
              "#d8576b"
             ],
             [
              0.6666666666666666,
              "#ed7953"
             ],
             [
              0.7777777777777778,
              "#fb9f3a"
             ],
             [
              0.8888888888888888,
              "#fdca26"
             ],
             [
              1,
              "#f0f921"
             ]
            ],
            "type": "heatmapgl"
           }
          ],
          "histogram": [
           {
            "marker": {
             "pattern": {
              "fillmode": "overlay",
              "size": 10,
              "solidity": 0.2
             }
            },
            "type": "histogram"
           }
          ],
          "histogram2d": [
           {
            "colorbar": {
             "outlinewidth": 0,
             "ticks": ""
            },
            "colorscale": [
             [
              0,
              "#0d0887"
             ],
             [
              0.1111111111111111,
              "#46039f"
             ],
             [
              0.2222222222222222,
              "#7201a8"
             ],
             [
              0.3333333333333333,
              "#9c179e"
             ],
             [
              0.4444444444444444,
              "#bd3786"
             ],
             [
              0.5555555555555556,
              "#d8576b"
             ],
             [
              0.6666666666666666,
              "#ed7953"
             ],
             [
              0.7777777777777778,
              "#fb9f3a"
             ],
             [
              0.8888888888888888,
              "#fdca26"
             ],
             [
              1,
              "#f0f921"
             ]
            ],
            "type": "histogram2d"
           }
          ],
          "histogram2dcontour": [
           {
            "colorbar": {
             "outlinewidth": 0,
             "ticks": ""
            },
            "colorscale": [
             [
              0,
              "#0d0887"
             ],
             [
              0.1111111111111111,
              "#46039f"
             ],
             [
              0.2222222222222222,
              "#7201a8"
             ],
             [
              0.3333333333333333,
              "#9c179e"
             ],
             [
              0.4444444444444444,
              "#bd3786"
             ],
             [
              0.5555555555555556,
              "#d8576b"
             ],
             [
              0.6666666666666666,
              "#ed7953"
             ],
             [
              0.7777777777777778,
              "#fb9f3a"
             ],
             [
              0.8888888888888888,
              "#fdca26"
             ],
             [
              1,
              "#f0f921"
             ]
            ],
            "type": "histogram2dcontour"
           }
          ],
          "mesh3d": [
           {
            "colorbar": {
             "outlinewidth": 0,
             "ticks": ""
            },
            "type": "mesh3d"
           }
          ],
          "parcoords": [
           {
            "line": {
             "colorbar": {
              "outlinewidth": 0,
              "ticks": ""
             }
            },
            "type": "parcoords"
           }
          ],
          "pie": [
           {
            "automargin": true,
            "type": "pie"
           }
          ],
          "scatter": [
           {
            "fillpattern": {
             "fillmode": "overlay",
             "size": 10,
             "solidity": 0.2
            },
            "type": "scatter"
           }
          ],
          "scatter3d": [
           {
            "line": {
             "colorbar": {
              "outlinewidth": 0,
              "ticks": ""
             }
            },
            "marker": {
             "colorbar": {
              "outlinewidth": 0,
              "ticks": ""
             }
            },
            "type": "scatter3d"
           }
          ],
          "scattercarpet": [
           {
            "marker": {
             "colorbar": {
              "outlinewidth": 0,
              "ticks": ""
             }
            },
            "type": "scattercarpet"
           }
          ],
          "scattergeo": [
           {
            "marker": {
             "colorbar": {
              "outlinewidth": 0,
              "ticks": ""
             }
            },
            "type": "scattergeo"
           }
          ],
          "scattergl": [
           {
            "marker": {
             "colorbar": {
              "outlinewidth": 0,
              "ticks": ""
             }
            },
            "type": "scattergl"
           }
          ],
          "scattermapbox": [
           {
            "marker": {
             "colorbar": {
              "outlinewidth": 0,
              "ticks": ""
             }
            },
            "type": "scattermapbox"
           }
          ],
          "scatterpolar": [
           {
            "marker": {
             "colorbar": {
              "outlinewidth": 0,
              "ticks": ""
             }
            },
            "type": "scatterpolar"
           }
          ],
          "scatterpolargl": [
           {
            "marker": {
             "colorbar": {
              "outlinewidth": 0,
              "ticks": ""
             }
            },
            "type": "scatterpolargl"
           }
          ],
          "scatterternary": [
           {
            "marker": {
             "colorbar": {
              "outlinewidth": 0,
              "ticks": ""
             }
            },
            "type": "scatterternary"
           }
          ],
          "surface": [
           {
            "colorbar": {
             "outlinewidth": 0,
             "ticks": ""
            },
            "colorscale": [
             [
              0,
              "#0d0887"
             ],
             [
              0.1111111111111111,
              "#46039f"
             ],
             [
              0.2222222222222222,
              "#7201a8"
             ],
             [
              0.3333333333333333,
              "#9c179e"
             ],
             [
              0.4444444444444444,
              "#bd3786"
             ],
             [
              0.5555555555555556,
              "#d8576b"
             ],
             [
              0.6666666666666666,
              "#ed7953"
             ],
             [
              0.7777777777777778,
              "#fb9f3a"
             ],
             [
              0.8888888888888888,
              "#fdca26"
             ],
             [
              1,
              "#f0f921"
             ]
            ],
            "type": "surface"
           }
          ],
          "table": [
           {
            "cells": {
             "fill": {
              "color": "#EBF0F8"
             },
             "line": {
              "color": "white"
             }
            },
            "header": {
             "fill": {
              "color": "#C8D4E3"
             },
             "line": {
              "color": "white"
             }
            },
            "type": "table"
           }
          ]
         },
         "layout": {
          "annotationdefaults": {
           "arrowcolor": "#2a3f5f",
           "arrowhead": 0,
           "arrowwidth": 1
          },
          "autotypenumbers": "strict",
          "coloraxis": {
           "colorbar": {
            "outlinewidth": 0,
            "ticks": ""
           }
          },
          "colorscale": {
           "diverging": [
            [
             0,
             "#8e0152"
            ],
            [
             0.1,
             "#c51b7d"
            ],
            [
             0.2,
             "#de77ae"
            ],
            [
             0.3,
             "#f1b6da"
            ],
            [
             0.4,
             "#fde0ef"
            ],
            [
             0.5,
             "#f7f7f7"
            ],
            [
             0.6,
             "#e6f5d0"
            ],
            [
             0.7,
             "#b8e186"
            ],
            [
             0.8,
             "#7fbc41"
            ],
            [
             0.9,
             "#4d9221"
            ],
            [
             1,
             "#276419"
            ]
           ],
           "sequential": [
            [
             0,
             "#0d0887"
            ],
            [
             0.1111111111111111,
             "#46039f"
            ],
            [
             0.2222222222222222,
             "#7201a8"
            ],
            [
             0.3333333333333333,
             "#9c179e"
            ],
            [
             0.4444444444444444,
             "#bd3786"
            ],
            [
             0.5555555555555556,
             "#d8576b"
            ],
            [
             0.6666666666666666,
             "#ed7953"
            ],
            [
             0.7777777777777778,
             "#fb9f3a"
            ],
            [
             0.8888888888888888,
             "#fdca26"
            ],
            [
             1,
             "#f0f921"
            ]
           ],
           "sequentialminus": [
            [
             0,
             "#0d0887"
            ],
            [
             0.1111111111111111,
             "#46039f"
            ],
            [
             0.2222222222222222,
             "#7201a8"
            ],
            [
             0.3333333333333333,
             "#9c179e"
            ],
            [
             0.4444444444444444,
             "#bd3786"
            ],
            [
             0.5555555555555556,
             "#d8576b"
            ],
            [
             0.6666666666666666,
             "#ed7953"
            ],
            [
             0.7777777777777778,
             "#fb9f3a"
            ],
            [
             0.8888888888888888,
             "#fdca26"
            ],
            [
             1,
             "#f0f921"
            ]
           ]
          },
          "colorway": [
           "#636efa",
           "#EF553B",
           "#00cc96",
           "#ab63fa",
           "#FFA15A",
           "#19d3f3",
           "#FF6692",
           "#B6E880",
           "#FF97FF",
           "#FECB52"
          ],
          "font": {
           "color": "#2a3f5f"
          },
          "geo": {
           "bgcolor": "white",
           "lakecolor": "white",
           "landcolor": "#E5ECF6",
           "showlakes": true,
           "showland": true,
           "subunitcolor": "white"
          },
          "hoverlabel": {
           "align": "left"
          },
          "hovermode": "closest",
          "mapbox": {
           "style": "light"
          },
          "paper_bgcolor": "white",
          "plot_bgcolor": "#E5ECF6",
          "polar": {
           "angularaxis": {
            "gridcolor": "white",
            "linecolor": "white",
            "ticks": ""
           },
           "bgcolor": "#E5ECF6",
           "radialaxis": {
            "gridcolor": "white",
            "linecolor": "white",
            "ticks": ""
           }
          },
          "scene": {
           "xaxis": {
            "backgroundcolor": "#E5ECF6",
            "gridcolor": "white",
            "gridwidth": 2,
            "linecolor": "white",
            "showbackground": true,
            "ticks": "",
            "zerolinecolor": "white"
           },
           "yaxis": {
            "backgroundcolor": "#E5ECF6",
            "gridcolor": "white",
            "gridwidth": 2,
            "linecolor": "white",
            "showbackground": true,
            "ticks": "",
            "zerolinecolor": "white"
           },
           "zaxis": {
            "backgroundcolor": "#E5ECF6",
            "gridcolor": "white",
            "gridwidth": 2,
            "linecolor": "white",
            "showbackground": true,
            "ticks": "",
            "zerolinecolor": "white"
           }
          },
          "shapedefaults": {
           "line": {
            "color": "#2a3f5f"
           }
          },
          "ternary": {
           "aaxis": {
            "gridcolor": "white",
            "linecolor": "white",
            "ticks": ""
           },
           "baxis": {
            "gridcolor": "white",
            "linecolor": "white",
            "ticks": ""
           },
           "bgcolor": "#E5ECF6",
           "caxis": {
            "gridcolor": "white",
            "linecolor": "white",
            "ticks": ""
           }
          },
          "title": {
           "x": 0.05
          },
          "xaxis": {
           "automargin": true,
           "gridcolor": "white",
           "linecolor": "white",
           "ticks": "",
           "title": {
            "standoff": 15
           },
           "zerolinecolor": "white",
           "zerolinewidth": 2
          },
          "yaxis": {
           "automargin": true,
           "gridcolor": "white",
           "linecolor": "white",
           "ticks": "",
           "title": {
            "standoff": 15
           },
           "zerolinecolor": "white",
           "zerolinewidth": 2
          }
         }
        },
        "title": {
         "text": "Model Robustness With Rotation",
         "x": 0.5
        },
        "xaxis": {
         "anchor": "y",
         "domain": [
          0,
          1
         ],
         "linecolor": "#BCCCDC",
         "showticklabels": true,
         "title": {
          "text": "rotate"
         }
        },
        "yaxis": {
         "anchor": "x",
         "domain": [
          0,
          1
         ],
         "linecolor": "#BCCCDC",
         "title": {
          "text": "Rotation Accuracy"
         }
        }
       }
      }
     },
     "metadata": {},
     "output_type": "display_data"
    }
   ],
   "source": [
    "visualize_search(search=rotation_grid_search, title=\"Model Robustness With Rotation\")"
   ]
  },
  {
   "cell_type": "markdown",
   "id": "0f63d359",
   "metadata": {},
   "source": [
    "The above plot proves that if we introduce random rotation while training, we can make model more robust to rotation. The model is still not robust to the range [90, 270] while testing since it was not trained on the same.\n",
    "\n",
    "\n",
    "<a id='ta16comparison'></a>\n",
    "### Model Comparison\n",
    "\n",
    "Let's compare all the trained model to compare model robustness to rotation"
   ]
  },
  {
   "cell_type": "code",
   "execution_count": 16,
   "id": "32f0c080",
   "metadata": {},
   "outputs": [
    {
     "name": "stdout",
     "output_type": "stream",
     "text": [
      "FastEstimator-Search: Evaluated {'rotate': 0, 'search_idx': 1}, result: {'Accuracy without Augmentation': 0.679, 'Shear Accuracy': 0.5868, 'Rotation Accuracy': 0.5154}\n",
      "FastEstimator-Search: Evaluated {'rotate': 10, 'search_idx': 2}, result: {'Accuracy without Augmentation': 0.6004, 'Shear Accuracy': 0.5896, 'Rotation Accuracy': 0.5284}\n",
      "FastEstimator-Search: Evaluated {'rotate': 20, 'search_idx': 3}, result: {'Accuracy without Augmentation': 0.5148, 'Shear Accuracy': 0.5776, 'Rotation Accuracy': 0.526}\n",
      "FastEstimator-Search: Evaluated {'rotate': 30, 'search_idx': 4}, result: {'Accuracy without Augmentation': 0.406, 'Shear Accuracy': 0.5344, 'Rotation Accuracy': 0.5262}\n",
      "FastEstimator-Search: Evaluated {'rotate': 40, 'search_idx': 5}, result: {'Accuracy without Augmentation': 0.3202, 'Shear Accuracy': 0.4818, 'Rotation Accuracy': 0.5258}\n",
      "FastEstimator-Search: Evaluated {'rotate': 50, 'search_idx': 6}, result: {'Accuracy without Augmentation': 0.2668, 'Shear Accuracy': 0.4222, 'Rotation Accuracy': 0.5218}\n",
      "FastEstimator-Search: Evaluated {'rotate': 60, 'search_idx': 7}, result: {'Accuracy without Augmentation': 0.2414, 'Shear Accuracy': 0.3608, 'Rotation Accuracy': 0.5156}\n",
      "FastEstimator-Search: Evaluated {'rotate': 70, 'search_idx': 8}, result: {'Accuracy without Augmentation': 0.2358, 'Shear Accuracy': 0.3154, 'Rotation Accuracy': 0.4928}\n",
      "FastEstimator-Search: Evaluated {'rotate': 80, 'search_idx': 9}, result: {'Accuracy without Augmentation': 0.23, 'Shear Accuracy': 0.2812, 'Rotation Accuracy': 0.475}\n",
      "FastEstimator-Search: Evaluated {'rotate': 90, 'search_idx': 10}, result: {'Accuracy without Augmentation': 0.2636, 'Shear Accuracy': 0.278, 'Rotation Accuracy': 0.4364}\n",
      "FastEstimator-Search: Evaluated {'rotate': 100, 'search_idx': 11}, result: {'Accuracy without Augmentation': 0.2298, 'Shear Accuracy': 0.2546, 'Rotation Accuracy': 0.4104}\n",
      "FastEstimator-Search: Evaluated {'rotate': 110, 'search_idx': 12}, result: {'Accuracy without Augmentation': 0.218, 'Shear Accuracy': 0.252, 'Rotation Accuracy': 0.3782}\n",
      "FastEstimator-Search: Evaluated {'rotate': 120, 'search_idx': 13}, result: {'Accuracy without Augmentation': 0.2136, 'Shear Accuracy': 0.2498, 'Rotation Accuracy': 0.3526}\n",
      "FastEstimator-Search: Evaluated {'rotate': 130, 'search_idx': 14}, result: {'Accuracy without Augmentation': 0.2156, 'Shear Accuracy': 0.254, 'Rotation Accuracy': 0.3362}\n",
      "FastEstimator-Search: Evaluated {'rotate': 140, 'search_idx': 15}, result: {'Accuracy without Augmentation': 0.223, 'Shear Accuracy': 0.2596, 'Rotation Accuracy': 0.3178}\n",
      "FastEstimator-Search: Evaluated {'rotate': 150, 'search_idx': 16}, result: {'Accuracy without Augmentation': 0.239, 'Shear Accuracy': 0.272, 'Rotation Accuracy': 0.3096}\n",
      "FastEstimator-Search: Evaluated {'rotate': 160, 'search_idx': 17}, result: {'Accuracy without Augmentation': 0.261, 'Shear Accuracy': 0.2826, 'Rotation Accuracy': 0.3038}\n",
      "FastEstimator-Search: Evaluated {'rotate': 170, 'search_idx': 18}, result: {'Accuracy without Augmentation': 0.2672, 'Shear Accuracy': 0.2826, 'Rotation Accuracy': 0.2942}\n",
      "FastEstimator-Search: Evaluated {'rotate': 180, 'search_idx': 19}, result: {'Accuracy without Augmentation': 0.3112, 'Shear Accuracy': 0.2976, 'Rotation Accuracy': 0.317}\n",
      "FastEstimator-Search: Evaluated {'rotate': 190, 'search_idx': 20}, result: {'Accuracy without Augmentation': 0.267, 'Shear Accuracy': 0.2856, 'Rotation Accuracy': 0.3072}\n",
      "FastEstimator-Search: Evaluated {'rotate': 200, 'search_idx': 21}, result: {'Accuracy without Augmentation': 0.2528, 'Shear Accuracy': 0.2894, 'Rotation Accuracy': 0.3136}\n",
      "FastEstimator-Search: Evaluated {'rotate': 210, 'search_idx': 22}, result: {'Accuracy without Augmentation': 0.2258, 'Shear Accuracy': 0.2798, 'Rotation Accuracy': 0.321}\n",
      "FastEstimator-Search: Evaluated {'rotate': 220, 'search_idx': 23}, result: {'Accuracy without Augmentation': 0.209, 'Shear Accuracy': 0.2698, 'Rotation Accuracy': 0.3292}\n",
      "FastEstimator-Search: Evaluated {'rotate': 230, 'search_idx': 24}, result: {'Accuracy without Augmentation': 0.2118, 'Shear Accuracy': 0.258, 'Rotation Accuracy': 0.3476}\n",
      "FastEstimator-Search: Evaluated {'rotate': 240, 'search_idx': 25}, result: {'Accuracy without Augmentation': 0.2044, 'Shear Accuracy': 0.2562, 'Rotation Accuracy': 0.3672}\n",
      "FastEstimator-Search: Evaluated {'rotate': 250, 'search_idx': 26}, result: {'Accuracy without Augmentation': 0.2068, 'Shear Accuracy': 0.255, 'Rotation Accuracy': 0.3888}\n",
      "FastEstimator-Search: Evaluated {'rotate': 260, 'search_idx': 27}, result: {'Accuracy without Augmentation': 0.2048, 'Shear Accuracy': 0.255, 'Rotation Accuracy': 0.4246}\n",
      "FastEstimator-Search: Evaluated {'rotate': 270, 'search_idx': 28}, result: {'Accuracy without Augmentation': 0.2418, 'Shear Accuracy': 0.286, 'Rotation Accuracy': 0.4508}\n",
      "FastEstimator-Search: Evaluated {'rotate': 280, 'search_idx': 29}, result: {'Accuracy without Augmentation': 0.2152, 'Shear Accuracy': 0.2842, 'Rotation Accuracy': 0.4724}\n",
      "FastEstimator-Search: Evaluated {'rotate': 290, 'search_idx': 30}, result: {'Accuracy without Augmentation': 0.2268, 'Shear Accuracy': 0.3148, 'Rotation Accuracy': 0.4962}\n",
      "FastEstimator-Search: Evaluated {'rotate': 300, 'search_idx': 31}, result: {'Accuracy without Augmentation': 0.2452, 'Shear Accuracy': 0.3586, 'Rotation Accuracy': 0.5068}\n",
      "FastEstimator-Search: Evaluated {'rotate': 310, 'search_idx': 32}, result: {'Accuracy without Augmentation': 0.276, 'Shear Accuracy': 0.409, 'Rotation Accuracy': 0.512}\n",
      "FastEstimator-Search: Evaluated {'rotate': 320, 'search_idx': 33}, result: {'Accuracy without Augmentation': 0.3252, 'Shear Accuracy': 0.4766, 'Rotation Accuracy': 0.5204}\n",
      "FastEstimator-Search: Evaluated {'rotate': 330, 'search_idx': 34}, result: {'Accuracy without Augmentation': 0.4044, 'Shear Accuracy': 0.5286, 'Rotation Accuracy': 0.523}\n",
      "FastEstimator-Search: Evaluated {'rotate': 340, 'search_idx': 35}, result: {'Accuracy without Augmentation': 0.513, 'Shear Accuracy': 0.5694, 'Rotation Accuracy': 0.5278}\n",
      "FastEstimator-Search: Evaluated {'rotate': 350, 'search_idx': 36}, result: {'Accuracy without Augmentation': 0.5984, 'Shear Accuracy': 0.5872, 'Rotation Accuracy': 0.5318}\n"
     ]
    }
   ],
   "source": [
    "def comparison_fn(search_idx, rotate, no_aug_results, shear_results, rotation_results):\n",
    "    acc = no_aug_results[rotate//10]['result']\n",
    "    shear_acc = shear_results[rotate//10]['result']\n",
    "    rotation_acc = rotation_results[rotate//10]['result']\n",
    "\n",
    "\n",
    "    return {**acc, **shear_acc, **rotation_acc}\n",
    "\n",
    "no_aug_results = no_aug_grid_search.get_search_summary()\n",
    "shear_results = shear_grid_search.get_search_summary()\n",
    "rotation_results = rotation_grid_search.get_search_summary()\n",
    "\n",
    "rot = list(range(0, 360, 10))\n",
    "\n",
    "model_comparison_grid_search = GridSearch(eval_fn=lambda search_idx, rotate: comparison_fn(search_idx, rotate, no_aug_results, shear_results, rotation_results), params={\"rotate\": rot})\n",
    "\n",
    "model_comparison_grid_search.fit()"
   ]
  },
  {
   "cell_type": "code",
   "execution_count": 17,
   "id": "c04212a5",
   "metadata": {},
   "outputs": [
    {
     "data": {
      "application/vnd.plotly.v1+json": {
       "config": {
        "displaylogo": false,
        "plotlyServerURL": "https://plot.ly",
        "toImageButtonOptions": {
         "filename": "figure",
         "format": "png",
         "height": null,
         "scale": 5,
         "width": null
        }
       },
       "data": [
        {
         "legendgroup": "Accuracy without Augmentation",
         "line": {
          "color": "rgba(1,115,178,1.0)"
         },
         "marker": {
          "symbol": "circle"
         },
         "mode": "lines+markers",
         "name": "Accuracy without Augmentation",
         "showlegend": true,
         "type": "scatter",
         "x": [
          0,
          10,
          20,
          30,
          40,
          50,
          60,
          70,
          80,
          90,
          100,
          110,
          120,
          130,
          140,
          150,
          160,
          170,
          180,
          190,
          200,
          210,
          220,
          230,
          240,
          250,
          260,
          270,
          280,
          290,
          300,
          310,
          320,
          330,
          340,
          350
         ],
         "xaxis": "x",
         "y": [
          0.679,
          0.6004,
          0.5148,
          0.406,
          0.3202,
          0.2668,
          0.2414,
          0.2358,
          0.23,
          0.2636,
          0.2298,
          0.218,
          0.2136,
          0.2156,
          0.223,
          0.239,
          0.261,
          0.2672,
          0.3112,
          0.267,
          0.2528,
          0.2258,
          0.209,
          0.2118,
          0.2044,
          0.2068,
          0.2048,
          0.2418,
          0.2152,
          0.2268,
          0.2452,
          0.276,
          0.3252,
          0.4044,
          0.513,
          0.5984
         ],
         "yaxis": "y"
        },
        {
         "legendgroup": "Shear Accuracy",
         "line": {
          "color": "rgba(2,158,115,1.0)"
         },
         "marker": {
          "symbol": "circle"
         },
         "mode": "lines+markers",
         "name": "Shear Accuracy",
         "showlegend": true,
         "type": "scatter",
         "x": [
          0,
          10,
          20,
          30,
          40,
          50,
          60,
          70,
          80,
          90,
          100,
          110,
          120,
          130,
          140,
          150,
          160,
          170,
          180,
          190,
          200,
          210,
          220,
          230,
          240,
          250,
          260,
          270,
          280,
          290,
          300,
          310,
          320,
          330,
          340,
          350
         ],
         "xaxis": "x",
         "y": [
          0.5868,
          0.5896,
          0.5776,
          0.5344,
          0.4818,
          0.4222,
          0.3608,
          0.3154,
          0.2812,
          0.278,
          0.2546,
          0.252,
          0.2498,
          0.254,
          0.2596,
          0.272,
          0.2826,
          0.2826,
          0.2976,
          0.2856,
          0.2894,
          0.2798,
          0.2698,
          0.258,
          0.2562,
          0.255,
          0.255,
          0.286,
          0.2842,
          0.3148,
          0.3586,
          0.409,
          0.4766,
          0.5286,
          0.5694,
          0.5872
         ],
         "yaxis": "y"
        },
        {
         "legendgroup": "Rotation Accuracy",
         "line": {
          "color": "rgba(222,143,5,1.0)"
         },
         "marker": {
          "symbol": "circle"
         },
         "mode": "lines+markers",
         "name": "Rotation Accuracy",
         "showlegend": true,
         "type": "scatter",
         "x": [
          0,
          10,
          20,
          30,
          40,
          50,
          60,
          70,
          80,
          90,
          100,
          110,
          120,
          130,
          140,
          150,
          160,
          170,
          180,
          190,
          200,
          210,
          220,
          230,
          240,
          250,
          260,
          270,
          280,
          290,
          300,
          310,
          320,
          330,
          340,
          350
         ],
         "xaxis": "x",
         "y": [
          0.5154,
          0.5284,
          0.526,
          0.5262,
          0.5258,
          0.5218,
          0.5156,
          0.4928,
          0.475,
          0.4364,
          0.4104,
          0.3782,
          0.3526,
          0.3362,
          0.3178,
          0.3096,
          0.3038,
          0.2942,
          0.317,
          0.3072,
          0.3136,
          0.321,
          0.3292,
          0.3476,
          0.3672,
          0.3888,
          0.4246,
          0.4508,
          0.4724,
          0.4962,
          0.5068,
          0.512,
          0.5204,
          0.523,
          0.5278,
          0.5318
         ],
         "yaxis": "y"
        }
       ],
       "layout": {
        "height": 280,
        "hovermode": "closest",
        "legend": {
         "font": {
          "size": 11
         },
         "tracegroupgap": 5
        },
        "margin": {
         "t": 50
        },
        "modebar": {
         "add": [
          "hoverclosest",
          "hovercompare"
         ],
         "remove": [
          "select2d",
          "lasso2d"
         ]
        },
        "plot_bgcolor": "#FFF",
        "template": {
         "data": {
          "bar": [
           {
            "error_x": {
             "color": "#2a3f5f"
            },
            "error_y": {
             "color": "#2a3f5f"
            },
            "marker": {
             "line": {
              "color": "#E5ECF6",
              "width": 0.5
             },
             "pattern": {
              "fillmode": "overlay",
              "size": 10,
              "solidity": 0.2
             }
            },
            "type": "bar"
           }
          ],
          "barpolar": [
           {
            "marker": {
             "line": {
              "color": "#E5ECF6",
              "width": 0.5
             },
             "pattern": {
              "fillmode": "overlay",
              "size": 10,
              "solidity": 0.2
             }
            },
            "type": "barpolar"
           }
          ],
          "carpet": [
           {
            "aaxis": {
             "endlinecolor": "#2a3f5f",
             "gridcolor": "white",
             "linecolor": "white",
             "minorgridcolor": "white",
             "startlinecolor": "#2a3f5f"
            },
            "baxis": {
             "endlinecolor": "#2a3f5f",
             "gridcolor": "white",
             "linecolor": "white",
             "minorgridcolor": "white",
             "startlinecolor": "#2a3f5f"
            },
            "type": "carpet"
           }
          ],
          "choropleth": [
           {
            "colorbar": {
             "outlinewidth": 0,
             "ticks": ""
            },
            "type": "choropleth"
           }
          ],
          "contour": [
           {
            "colorbar": {
             "outlinewidth": 0,
             "ticks": ""
            },
            "colorscale": [
             [
              0,
              "#0d0887"
             ],
             [
              0.1111111111111111,
              "#46039f"
             ],
             [
              0.2222222222222222,
              "#7201a8"
             ],
             [
              0.3333333333333333,
              "#9c179e"
             ],
             [
              0.4444444444444444,
              "#bd3786"
             ],
             [
              0.5555555555555556,
              "#d8576b"
             ],
             [
              0.6666666666666666,
              "#ed7953"
             ],
             [
              0.7777777777777778,
              "#fb9f3a"
             ],
             [
              0.8888888888888888,
              "#fdca26"
             ],
             [
              1,
              "#f0f921"
             ]
            ],
            "type": "contour"
           }
          ],
          "contourcarpet": [
           {
            "colorbar": {
             "outlinewidth": 0,
             "ticks": ""
            },
            "type": "contourcarpet"
           }
          ],
          "heatmap": [
           {
            "colorbar": {
             "outlinewidth": 0,
             "ticks": ""
            },
            "colorscale": [
             [
              0,
              "#0d0887"
             ],
             [
              0.1111111111111111,
              "#46039f"
             ],
             [
              0.2222222222222222,
              "#7201a8"
             ],
             [
              0.3333333333333333,
              "#9c179e"
             ],
             [
              0.4444444444444444,
              "#bd3786"
             ],
             [
              0.5555555555555556,
              "#d8576b"
             ],
             [
              0.6666666666666666,
              "#ed7953"
             ],
             [
              0.7777777777777778,
              "#fb9f3a"
             ],
             [
              0.8888888888888888,
              "#fdca26"
             ],
             [
              1,
              "#f0f921"
             ]
            ],
            "type": "heatmap"
           }
          ],
          "heatmapgl": [
           {
            "colorbar": {
             "outlinewidth": 0,
             "ticks": ""
            },
            "colorscale": [
             [
              0,
              "#0d0887"
             ],
             [
              0.1111111111111111,
              "#46039f"
             ],
             [
              0.2222222222222222,
              "#7201a8"
             ],
             [
              0.3333333333333333,
              "#9c179e"
             ],
             [
              0.4444444444444444,
              "#bd3786"
             ],
             [
              0.5555555555555556,
              "#d8576b"
             ],
             [
              0.6666666666666666,
              "#ed7953"
             ],
             [
              0.7777777777777778,
              "#fb9f3a"
             ],
             [
              0.8888888888888888,
              "#fdca26"
             ],
             [
              1,
              "#f0f921"
             ]
            ],
            "type": "heatmapgl"
           }
          ],
          "histogram": [
           {
            "marker": {
             "pattern": {
              "fillmode": "overlay",
              "size": 10,
              "solidity": 0.2
             }
            },
            "type": "histogram"
           }
          ],
          "histogram2d": [
           {
            "colorbar": {
             "outlinewidth": 0,
             "ticks": ""
            },
            "colorscale": [
             [
              0,
              "#0d0887"
             ],
             [
              0.1111111111111111,
              "#46039f"
             ],
             [
              0.2222222222222222,
              "#7201a8"
             ],
             [
              0.3333333333333333,
              "#9c179e"
             ],
             [
              0.4444444444444444,
              "#bd3786"
             ],
             [
              0.5555555555555556,
              "#d8576b"
             ],
             [
              0.6666666666666666,
              "#ed7953"
             ],
             [
              0.7777777777777778,
              "#fb9f3a"
             ],
             [
              0.8888888888888888,
              "#fdca26"
             ],
             [
              1,
              "#f0f921"
             ]
            ],
            "type": "histogram2d"
           }
          ],
          "histogram2dcontour": [
           {
            "colorbar": {
             "outlinewidth": 0,
             "ticks": ""
            },
            "colorscale": [
             [
              0,
              "#0d0887"
             ],
             [
              0.1111111111111111,
              "#46039f"
             ],
             [
              0.2222222222222222,
              "#7201a8"
             ],
             [
              0.3333333333333333,
              "#9c179e"
             ],
             [
              0.4444444444444444,
              "#bd3786"
             ],
             [
              0.5555555555555556,
              "#d8576b"
             ],
             [
              0.6666666666666666,
              "#ed7953"
             ],
             [
              0.7777777777777778,
              "#fb9f3a"
             ],
             [
              0.8888888888888888,
              "#fdca26"
             ],
             [
              1,
              "#f0f921"
             ]
            ],
            "type": "histogram2dcontour"
           }
          ],
          "mesh3d": [
           {
            "colorbar": {
             "outlinewidth": 0,
             "ticks": ""
            },
            "type": "mesh3d"
           }
          ],
          "parcoords": [
           {
            "line": {
             "colorbar": {
              "outlinewidth": 0,
              "ticks": ""
             }
            },
            "type": "parcoords"
           }
          ],
          "pie": [
           {
            "automargin": true,
            "type": "pie"
           }
          ],
          "scatter": [
           {
            "fillpattern": {
             "fillmode": "overlay",
             "size": 10,
             "solidity": 0.2
            },
            "type": "scatter"
           }
          ],
          "scatter3d": [
           {
            "line": {
             "colorbar": {
              "outlinewidth": 0,
              "ticks": ""
             }
            },
            "marker": {
             "colorbar": {
              "outlinewidth": 0,
              "ticks": ""
             }
            },
            "type": "scatter3d"
           }
          ],
          "scattercarpet": [
           {
            "marker": {
             "colorbar": {
              "outlinewidth": 0,
              "ticks": ""
             }
            },
            "type": "scattercarpet"
           }
          ],
          "scattergeo": [
           {
            "marker": {
             "colorbar": {
              "outlinewidth": 0,
              "ticks": ""
             }
            },
            "type": "scattergeo"
           }
          ],
          "scattergl": [
           {
            "marker": {
             "colorbar": {
              "outlinewidth": 0,
              "ticks": ""
             }
            },
            "type": "scattergl"
           }
          ],
          "scattermapbox": [
           {
            "marker": {
             "colorbar": {
              "outlinewidth": 0,
              "ticks": ""
             }
            },
            "type": "scattermapbox"
           }
          ],
          "scatterpolar": [
           {
            "marker": {
             "colorbar": {
              "outlinewidth": 0,
              "ticks": ""
             }
            },
            "type": "scatterpolar"
           }
          ],
          "scatterpolargl": [
           {
            "marker": {
             "colorbar": {
              "outlinewidth": 0,
              "ticks": ""
             }
            },
            "type": "scatterpolargl"
           }
          ],
          "scatterternary": [
           {
            "marker": {
             "colorbar": {
              "outlinewidth": 0,
              "ticks": ""
             }
            },
            "type": "scatterternary"
           }
          ],
          "surface": [
           {
            "colorbar": {
             "outlinewidth": 0,
             "ticks": ""
            },
            "colorscale": [
             [
              0,
              "#0d0887"
             ],
             [
              0.1111111111111111,
              "#46039f"
             ],
             [
              0.2222222222222222,
              "#7201a8"
             ],
             [
              0.3333333333333333,
              "#9c179e"
             ],
             [
              0.4444444444444444,
              "#bd3786"
             ],
             [
              0.5555555555555556,
              "#d8576b"
             ],
             [
              0.6666666666666666,
              "#ed7953"
             ],
             [
              0.7777777777777778,
              "#fb9f3a"
             ],
             [
              0.8888888888888888,
              "#fdca26"
             ],
             [
              1,
              "#f0f921"
             ]
            ],
            "type": "surface"
           }
          ],
          "table": [
           {
            "cells": {
             "fill": {
              "color": "#EBF0F8"
             },
             "line": {
              "color": "white"
             }
            },
            "header": {
             "fill": {
              "color": "#C8D4E3"
             },
             "line": {
              "color": "white"
             }
            },
            "type": "table"
           }
          ]
         },
         "layout": {
          "annotationdefaults": {
           "arrowcolor": "#2a3f5f",
           "arrowhead": 0,
           "arrowwidth": 1
          },
          "autotypenumbers": "strict",
          "coloraxis": {
           "colorbar": {
            "outlinewidth": 0,
            "ticks": ""
           }
          },
          "colorscale": {
           "diverging": [
            [
             0,
             "#8e0152"
            ],
            [
             0.1,
             "#c51b7d"
            ],
            [
             0.2,
             "#de77ae"
            ],
            [
             0.3,
             "#f1b6da"
            ],
            [
             0.4,
             "#fde0ef"
            ],
            [
             0.5,
             "#f7f7f7"
            ],
            [
             0.6,
             "#e6f5d0"
            ],
            [
             0.7,
             "#b8e186"
            ],
            [
             0.8,
             "#7fbc41"
            ],
            [
             0.9,
             "#4d9221"
            ],
            [
             1,
             "#276419"
            ]
           ],
           "sequential": [
            [
             0,
             "#0d0887"
            ],
            [
             0.1111111111111111,
             "#46039f"
            ],
            [
             0.2222222222222222,
             "#7201a8"
            ],
            [
             0.3333333333333333,
             "#9c179e"
            ],
            [
             0.4444444444444444,
             "#bd3786"
            ],
            [
             0.5555555555555556,
             "#d8576b"
            ],
            [
             0.6666666666666666,
             "#ed7953"
            ],
            [
             0.7777777777777778,
             "#fb9f3a"
            ],
            [
             0.8888888888888888,
             "#fdca26"
            ],
            [
             1,
             "#f0f921"
            ]
           ],
           "sequentialminus": [
            [
             0,
             "#0d0887"
            ],
            [
             0.1111111111111111,
             "#46039f"
            ],
            [
             0.2222222222222222,
             "#7201a8"
            ],
            [
             0.3333333333333333,
             "#9c179e"
            ],
            [
             0.4444444444444444,
             "#bd3786"
            ],
            [
             0.5555555555555556,
             "#d8576b"
            ],
            [
             0.6666666666666666,
             "#ed7953"
            ],
            [
             0.7777777777777778,
             "#fb9f3a"
            ],
            [
             0.8888888888888888,
             "#fdca26"
            ],
            [
             1,
             "#f0f921"
            ]
           ]
          },
          "colorway": [
           "#636efa",
           "#EF553B",
           "#00cc96",
           "#ab63fa",
           "#FFA15A",
           "#19d3f3",
           "#FF6692",
           "#B6E880",
           "#FF97FF",
           "#FECB52"
          ],
          "font": {
           "color": "#2a3f5f"
          },
          "geo": {
           "bgcolor": "white",
           "lakecolor": "white",
           "landcolor": "#E5ECF6",
           "showlakes": true,
           "showland": true,
           "subunitcolor": "white"
          },
          "hoverlabel": {
           "align": "left"
          },
          "hovermode": "closest",
          "mapbox": {
           "style": "light"
          },
          "paper_bgcolor": "white",
          "plot_bgcolor": "#E5ECF6",
          "polar": {
           "angularaxis": {
            "gridcolor": "white",
            "linecolor": "white",
            "ticks": ""
           },
           "bgcolor": "#E5ECF6",
           "radialaxis": {
            "gridcolor": "white",
            "linecolor": "white",
            "ticks": ""
           }
          },
          "scene": {
           "xaxis": {
            "backgroundcolor": "#E5ECF6",
            "gridcolor": "white",
            "gridwidth": 2,
            "linecolor": "white",
            "showbackground": true,
            "ticks": "",
            "zerolinecolor": "white"
           },
           "yaxis": {
            "backgroundcolor": "#E5ECF6",
            "gridcolor": "white",
            "gridwidth": 2,
            "linecolor": "white",
            "showbackground": true,
            "ticks": "",
            "zerolinecolor": "white"
           },
           "zaxis": {
            "backgroundcolor": "#E5ECF6",
            "gridcolor": "white",
            "gridwidth": 2,
            "linecolor": "white",
            "showbackground": true,
            "ticks": "",
            "zerolinecolor": "white"
           }
          },
          "shapedefaults": {
           "line": {
            "color": "#2a3f5f"
           }
          },
          "ternary": {
           "aaxis": {
            "gridcolor": "white",
            "linecolor": "white",
            "ticks": ""
           },
           "baxis": {
            "gridcolor": "white",
            "linecolor": "white",
            "ticks": ""
           },
           "bgcolor": "#E5ECF6",
           "caxis": {
            "gridcolor": "white",
            "linecolor": "white",
            "ticks": ""
           }
          },
          "title": {
           "x": 0.05
          },
          "xaxis": {
           "automargin": true,
           "gridcolor": "white",
           "linecolor": "white",
           "ticks": "",
           "title": {
            "standoff": 15
           },
           "zerolinecolor": "white",
           "zerolinewidth": 2
          },
          "yaxis": {
           "automargin": true,
           "gridcolor": "white",
           "linecolor": "white",
           "ticks": "",
           "title": {
            "standoff": 15
           },
           "zerolinecolor": "white",
           "zerolinewidth": 2
          }
         }
        },
        "title": {
         "text": "Model Robustness",
         "x": 0.5
        },
        "xaxis": {
         "anchor": "y",
         "domain": [
          0,
          1
         ],
         "linecolor": "#BCCCDC",
         "showticklabels": true,
         "title": {
          "text": "rotate"
         }
        },
        "yaxis": {
         "anchor": "x",
         "domain": [
          0,
          1
         ],
         "linecolor": "#BCCCDC",
         "title": {
          "text": ""
         }
        }
       }
      }
     },
     "metadata": {},
     "output_type": "display_data"
    }
   ],
   "source": [
    "visualize_search(search=model_comparison_grid_search, title=\"Model Robustness\",groups=[['Accuracy without Augmentation','Shear Accuracy','Rotation Accuracy']])"
   ]
  },
  {
   "cell_type": "markdown",
   "id": "ff52245a",
   "metadata": {},
   "source": [
    "It can be seen that by randomly introducing shear and rotation to the input images while training makes model more robust to rotation. So with augmentation we can make the model aware of rotation and increase robustness of the model.\n",
    "\n",
    "`NOTE : All the three models compared above were trained only for 3 epochs on LeNet. One can achieve a much better performance by training long enough and choosing a different architecture.`\n"
   ]
  }
 ],
 "metadata": {
  "interpreter": {
   "hash": "db12ecd9a8da12dcbc3956f84cadbe4fb87690b6fa9e5362a3236eb452edec44"
  },
  "kernelspec": {
   "display_name": "Python 3 (ipykernel)",
   "language": "python",
   "name": "python3"
  },
  "language_info": {
   "codemirror_mode": {
    "name": "ipython",
    "version": 3
   },
   "file_extension": ".py",
   "mimetype": "text/x-python",
   "name": "python",
   "nbconvert_exporter": "python",
   "pygments_lexer": "ipython3",
   "version": "3.8.10"
  }
 },
 "nbformat": 4,
 "nbformat_minor": 5
}
