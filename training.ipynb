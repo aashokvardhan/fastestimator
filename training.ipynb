{
 "cells": [
  {
   "cell_type": "code",
   "execution_count": 82,
   "id": "d4aa64c0-9cd2-420a-b191-7fc99358160f",
   "metadata": {},
   "outputs": [
    {
     "name": "stderr",
     "output_type": "stream",
     "text": [
      "/tmp/ipykernel_5271/3665971575.py:2: DtypeWarning: Columns (1) have mixed types. Specify dtype option on import or set low_memory=False.\n",
      "  data = pd.read_csv('heart_disease_3.csv')\n"
     ]
    }
   ],
   "source": [
    "import pandas as pd \n",
    "data = pd.read_csv('heart_disease_3.csv')\n",
    "data = data.dropna()\n",
    "data['BMI'] = data['BMI'].astype('float')\n",
    "\n",
    "for col_name in data.columns:\n",
    "    if(data[col_name].dtype == 'object'):\n",
    "        data[col_name]= data[col_name].astype('category')\n",
    "        data[col_name] = data[col_name].cat.codes"
   ]
  },
  {
   "cell_type": "code",
   "execution_count": 83,
   "id": "75fa10a3-e7c5-4e9b-8bc1-85c53e8677c7",
   "metadata": {},
   "outputs": [],
   "source": [
    "from sklearn.model_selection import train_test_split\n",
    "y = data.pop('HeartDisease')\n",
    "X = data\n",
    "\n",
    "X_train,X_test,y_train,y_test = train_test_split(X,y,test_size=0.2)"
   ]
  },
  {
   "cell_type": "code",
   "execution_count": 88,
   "id": "19779f2e-4ede-440f-bd56-1b18ff1881ad",
   "metadata": {},
   "outputs": [
    {
     "name": "stdout",
     "output_type": "stream",
     "text": [
      "Best: 0.915431 using {'C': 0.01, 'penalty': 'l2', 'solver': 'liblinear'}\n",
      "0.915175 (0.000640) with: {'C': 100, 'penalty': 'l2', 'solver': 'newton-cg'}\n",
      "0.915066 (0.000756) with: {'C': 100, 'penalty': 'l2', 'solver': 'lbfgs'}\n",
      "0.915171 (0.000634) with: {'C': 100, 'penalty': 'l2', 'solver': 'liblinear'}\n",
      "0.915176 (0.000639) with: {'C': 10, 'penalty': 'l2', 'solver': 'newton-cg'}\n",
      "0.915024 (0.000703) with: {'C': 10, 'penalty': 'l2', 'solver': 'lbfgs'}\n",
      "0.915176 (0.000636) with: {'C': 10, 'penalty': 'l2', 'solver': 'liblinear'}\n",
      "0.915174 (0.000634) with: {'C': 1.0, 'penalty': 'l2', 'solver': 'newton-cg'}\n",
      "0.914959 (0.000746) with: {'C': 1.0, 'penalty': 'l2', 'solver': 'lbfgs'}\n",
      "0.915179 (0.000640) with: {'C': 1.0, 'penalty': 'l2', 'solver': 'liblinear'}\n",
      "0.915170 (0.000627) with: {'C': 0.1, 'penalty': 'l2', 'solver': 'newton-cg'}\n",
      "0.915118 (0.000757) with: {'C': 0.1, 'penalty': 'l2', 'solver': 'lbfgs'}\n",
      "0.915243 (0.000628) with: {'C': 0.1, 'penalty': 'l2', 'solver': 'liblinear'}\n",
      "0.915188 (0.000595) with: {'C': 0.01, 'penalty': 'l2', 'solver': 'newton-cg'}\n",
      "0.915263 (0.000807) with: {'C': 0.01, 'penalty': 'l2', 'solver': 'lbfgs'}\n",
      "0.915431 (0.000561) with: {'C': 0.01, 'penalty': 'l2', 'solver': 'liblinear'}\n",
      "Test Data accuracy:  0.914818166254983\n"
     ]
    }
   ],
   "source": [
    "from sklearn.model_selection import RepeatedStratifiedKFold\n",
    "from sklearn.model_selection import GridSearchCV\n",
    "from sklearn.linear_model import LogisticRegression\n",
    "from sklearn.metrics import accuracy_score\n",
    "\n",
    "# define models and parameters\n",
    "model = LogisticRegression()\n",
    "solvers = ['newton-cg', 'lbfgs', 'liblinear']\n",
    "penalty = ['l2']\n",
    "c_values = [100, 10, 1.0, 0.1, 0.01]\n",
    "\n",
    "\n",
    "# define grid search\n",
    "grid = dict(solver=solvers,penalty=penalty,C=c_values)\n",
    "cv = RepeatedStratifiedKFold(n_splits=10, n_repeats=3, random_state=1)\n",
    "grid_search = GridSearchCV(estimator=model, param_grid=grid, n_jobs=-1, cv=cv, scoring='accuracy',error_score=0)\n",
    "grid_result = grid_search.fit(X_train, y_train)\n",
    "\n",
    "\n",
    "# summarize results\n",
    "print(\"Best: %f using %s\" % (grid_result.best_score_, grid_result.best_params_))\n",
    "means = grid_result.cv_results_['mean_test_score']\n",
    "stds = grid_result.cv_results_['std_test_score']\n",
    "params = grid_result.cv_results_['params']\n",
    "for mean, stdev, param in zip(means, stds, params):\n",
    "    print(\"%f (%f) with: %r\" % (mean, stdev, param))\n",
    "\n",
    "\n",
    "## performance on test data\n",
    "test_data_prediction = grid_result.best_estimator_.predict(X_test)\n",
    "test_accuracy = accuracy_score(y_test, test_data_prediction)\n",
    "print(\"Test Data accuracy: \", test_accuracy)"
   ]
  }
 ],
 "metadata": {
  "kernelspec": {
   "display_name": "Python 3 (ipykernel)",
   "language": "python",
   "name": "python3"
  },
  "language_info": {
   "codemirror_mode": {
    "name": "ipython",
    "version": 3
   },
   "file_extension": ".py",
   "mimetype": "text/x-python",
   "name": "python",
   "nbconvert_exporter": "python",
   "pygments_lexer": "ipython3",
   "version": "3.8.10"
  }
 },
 "nbformat": 4,
 "nbformat_minor": 5
}
